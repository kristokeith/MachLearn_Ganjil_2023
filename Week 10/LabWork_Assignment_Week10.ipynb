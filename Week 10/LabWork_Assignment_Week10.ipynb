{
  "nbformat": 4,
  "nbformat_minor": 0,
  "metadata": {
    "colab": {
      "provenance": [],
      "gpuType": "T4",
      "authorship_tag": "ABX9TyOVwwvIJAsrXtfmucuz/2TE",
      "include_colab_link": true
    },
    "kernelspec": {
      "name": "python3",
      "display_name": "Python 3"
    },
    "language_info": {
      "name": "python"
    },
    "accelerator": "GPU"
  },
  "cells": [
    {
      "cell_type": "markdown",
      "metadata": {
        "id": "view-in-github",
        "colab_type": "text"
      },
      "source": [
        "<a href=\"https://colab.research.google.com/github/kristokeith/MachLearn_Ganjil_2023/blob/main/Week%2010/LabWork_Assignment_Week10.ipynb\" target=\"_parent\"><img src=\"https://colab.research.google.com/assets/colab-badge.svg\" alt=\"Open In Colab\"/></a>"
      ]
    },
    {
      "cell_type": "markdown",
      "source": [
        "# Lab Work 1\n",
        "*RNN for Sentiment Analysis*\n",
        "\n",
        "### Step 1 - Setup\n",
        "Import matplotlib and create a helper function to plot the graph"
      ],
      "metadata": {
        "id": "YxF9d3c-Lehq"
      }
    },
    {
      "cell_type": "code",
      "execution_count": null,
      "metadata": {
        "id": "MAqtfrlgK4ng"
      },
      "outputs": [],
      "source": [
        "import numpy as np\n",
        "import tensorflow_datasets as tfds\n",
        "import tensorflow as tf\n",
        "\n",
        "tfds.disable_progress_bar()"
      ]
    },
    {
      "cell_type": "code",
      "source": [
        "import matplotlib.pyplot as plt\n",
        "\n",
        "def plot_graphs(history, metric):\n",
        "  plt.plot(history.history[metric])\n",
        "  plt.plot(history.history['val_'+metric], '')\n",
        "  plt.xlabel(\"Epochs\")\n",
        "  plt.ylabel(metric)\n",
        "  plt.legend([metric, 'val_'+metric])"
      ],
      "metadata": {
        "id": "8f9BIwa8Lw2i"
      },
      "execution_count": null,
      "outputs": []
    },
    {
      "cell_type": "markdown",
      "source": [
        "### Step 2 - Setup Input Pipeline\n",
        "Download the dataset using TFDS. See loading text tutorial if you want to load the data manually"
      ],
      "metadata": {
        "id": "D8xj-3-7L1DR"
      }
    },
    {
      "cell_type": "code",
      "source": [
        "dataset, info = tfds.load('imdb_reviews', with_info=True,\n",
        "                          as_supervised=True)\n",
        "train_dataset, test_dataset = dataset['train'], dataset['test']\n",
        "\n",
        "train_dataset.element_spec"
      ],
      "metadata": {
        "id": "DNtuK76bL-OY",
        "outputId": "1c6e8159-bc04-4885-ae67-e9df3fbb5db2",
        "colab": {
          "base_uri": "https://localhost:8080/"
        }
      },
      "execution_count": null,
      "outputs": [
        {
          "output_type": "stream",
          "name": "stdout",
          "text": [
            "Downloading and preparing dataset 80.23 MiB (download: 80.23 MiB, generated: Unknown size, total: 80.23 MiB) to /root/tensorflow_datasets/imdb_reviews/plain_text/1.0.0...\n",
            "Dataset imdb_reviews downloaded and prepared to /root/tensorflow_datasets/imdb_reviews/plain_text/1.0.0. Subsequent calls will reuse this data.\n"
          ]
        },
        {
          "output_type": "execute_result",
          "data": {
            "text/plain": [
              "(TensorSpec(shape=(), dtype=tf.string, name=None),\n",
              " TensorSpec(shape=(), dtype=tf.int64, name=None))"
            ]
          },
          "metadata": {},
          "execution_count": 3
        }
      ]
    },
    {
      "cell_type": "markdown",
      "source": [
        "Initially, this returns a dataset (text, label pairs):"
      ],
      "metadata": {
        "id": "DGEwzzCfMEWX"
      }
    },
    {
      "cell_type": "code",
      "source": [
        "for example, label in train_dataset.take(1):\n",
        "  print('text: ', example.numpy())\n",
        "  print('label: ', label.numpy())"
      ],
      "metadata": {
        "id": "fKy6vmoLMNC5",
        "outputId": "a15c11f9-f7b8-4325-f305-90e840566aa8",
        "colab": {
          "base_uri": "https://localhost:8080/"
        }
      },
      "execution_count": null,
      "outputs": [
        {
          "output_type": "stream",
          "name": "stdout",
          "text": [
            "text:  b\"This was an absolutely terrible movie. Don't be lured in by Christopher Walken or Michael Ironside. Both are great actors, but this must simply be their worst role in history. Even their great acting could not redeem this movie's ridiculous storyline. This movie is an early nineties US propaganda piece. The most pathetic scenes were those when the Columbian rebels were making their cases for revolutions. Maria Conchita Alonso appeared phony, and her pseudo-love affair with Walken was nothing but a pathetic emotional plug in a movie that was devoid of any real meaning. I am disappointed that there are movies like this, ruining actor's like Christopher Walken's good name. I could barely sit through it.\"\n",
            "label:  0\n"
          ]
        }
      ]
    },
    {
      "cell_type": "markdown",
      "source": [
        "Next, shuffle the data for training and create this pair dataset:"
      ],
      "metadata": {
        "id": "a49gPGFhMO84"
      }
    },
    {
      "cell_type": "code",
      "source": [
        "BUFFER_SIZE = 10000\n",
        "BATCH_SIZE = 64\n",
        "\n",
        "train_dataset = train_dataset.shuffle(BUFFER_SIZE).batch(BATCH_SIZE).prefetch(tf.data.AUTOTUNE)\n",
        "test_dataset = test_dataset.batch(BATCH_SIZE).prefetch(tf.data.AUTOTUNE)\n",
        "\n",
        "for example, label in train_dataset.take(1):\n",
        "  print('texts: ', example.numpy()[:3])\n",
        "  print()\n",
        "  print('labels: ', label.numpy()[:3])"
      ],
      "metadata": {
        "id": "NjgNCaSgMRax",
        "outputId": "0ca6a3a6-d2c8-4c1d-82eb-107c991ab5bb",
        "colab": {
          "base_uri": "https://localhost:8080/"
        }
      },
      "execution_count": null,
      "outputs": [
        {
          "output_type": "stream",
          "name": "stdout",
          "text": [
            "texts:  [b\"As an native of Bolton, this film has obvious appeal for me. The location shots are fascinating and show a Bolton very much in transition - there are a number of scenes of apparent dereliction but this serves to show the town being rebuilt - and the idea that the old must make way for the new is right at the heart of this film. A slightly miscast James Mason leads an enjoyable ensemble in a story about a fuss over a herring that spirals into a full-blown generational conflict, then a pleasingly schmaltzy resolution. Though I'm a bit too young to remember it fully, the minutiae of Lancashire life in the 60s is all here: cashing up on a Friday, songs round the piano, the Sunday constitutional, good neighbourliness, the trepidations of courtship, the massive importance of self-respect, and I was pleased to see Naughton's funniest lines from the play left intact. There is no doubt that this film ought to be made available on DVD - it is well crafted and most performances are well realised.\"\n",
            " b\"Lucy Alexis Liu and Cillian Murphy are both excellent actors, who can certainly rise to any acting challenge put to them.<br /><br />Unfortunately 'Watching the Detectives (2007)' offers only one to both actors and audience alike: not to fall asleep during a mind-numbingly boring, very predictable and unimaginative story.<br /><br />'Watching the Detectives (2007)' tries very hard to be funny, but the comedy is forced, extremely poorly directed and embarrassing to the verge of complete ridicule.<br /><br />After a third of the film still nothing that may capture even the most willing audience, like the director's friends and relatives, is even hinted at, not to mention actually happening.<br /><br />I'm pretty sure everybody who liked it faked it or had to fake it like Neil's ex-girlfriend did when he showed her an old B&W film she couldn't care less about. 'Watching the Detectives (2007)' is nowhere near category B, it falls somewhere between Q & R, like -Questions? and -Repress the questions! The director knows what he's doing! Well, if his goal was to bore the viewer to death, he has done a very good job!<br /><br />'Watching the Detectives (2007)' was a complete waste of time for Lucy Alexis Liu and Cillian Murphy, bur PLEASE don't let it be a waste of your time!<br /><br />Rating: 0 out of 100.\"\n",
            " b\"I stumbled across this (Act-I) by pure dumb luck and this was more than a decade ago. This was'nt even what the cover label on the tape mentioned. It amazed me. It intimidated me. It shocked me. I eventually forgot about and almost a decade later, I happened to think about it again. Then went and bought both acts. They were even better than I had experienced at first.<br /><br />My only complaint is that while the Tank Police keep on going on and on about being at war with crime, warranting tanks and heavy artillery, it would seem as though they are really having a hard time with criminals. That is either never shown or is simply a lie as they appear to be taking it easy most of the time. If that bit about being in a state of war was really propaganda, it certainly has not been shown as such.<br /><br />I don't think the original Japanese version could have been any where as good as the Americanized version of this. But regarding the story, there has certainly been some proper explanations lost in translation but it can be excused.\"]\n",
            "\n",
            "labels:  [1 0 1]\n"
          ]
        }
      ]
    },
    {
      "cell_type": "markdown",
      "source": [
        "### Step 3 - Create a Text Encoder\n",
        "Create this layer and pass the text dataset to the layer's .adapt method:"
      ],
      "metadata": {
        "id": "c20jmALFMWN3"
      }
    },
    {
      "cell_type": "code",
      "source": [
        "VOCAB_SIZE = 1000\n",
        "encoder = tf.keras.layers.TextVectorization(\n",
        "    max_tokens=VOCAB_SIZE)\n",
        "encoder.adapt(train_dataset.map(lambda text, label: text))"
      ],
      "metadata": {
        "id": "uzFFJPztMcX_"
      },
      "execution_count": null,
      "outputs": []
    },
    {
      "cell_type": "markdown",
      "source": [
        "The .adapt method sets the layer's vocabulary. The first 20 tokens can be seen with the following code. After padding and unknown tokens, they are sorted by frequency:"
      ],
      "metadata": {
        "id": "W6Y_q8JVMfKg"
      }
    },
    {
      "cell_type": "code",
      "source": [
        "vocab = np.array(encoder.get_vocabulary())\n",
        "vocab[:20]"
      ],
      "metadata": {
        "id": "A-OZ5w34MhIX",
        "outputId": "69cf9263-7b82-48e8-c921-bc3e017c4f85",
        "colab": {
          "base_uri": "https://localhost:8080/"
        }
      },
      "execution_count": null,
      "outputs": [
        {
          "output_type": "execute_result",
          "data": {
            "text/plain": [
              "array(['', '[UNK]', 'the', 'and', 'a', 'of', 'to', 'is', 'in', 'it', 'i',\n",
              "       'this', 'that', 'br', 'was', 'as', 'for', 'with', 'movie', 'but'],\n",
              "      dtype='<U14')"
            ]
          },
          "metadata": {},
          "execution_count": 7
        }
      ]
    },
    {
      "cell_type": "markdown",
      "source": [
        "Once the vocabulary is set, the layer can encode text into indices. The index tensor is padded with 0s to the longest sequence in the batch (unless if you set output_sequence_length fixed):"
      ],
      "metadata": {
        "id": "xPmLBxlCMoCP"
      }
    },
    {
      "cell_type": "code",
      "source": [
        "encoded_example = encoder(example)[:3].numpy()\n",
        "encoded_example"
      ],
      "metadata": {
        "id": "p3wXCEhRMpqA",
        "outputId": "df6a37ec-0699-466d-c993-0b86883860e5",
        "colab": {
          "base_uri": "https://localhost:8080/"
        }
      },
      "execution_count": null,
      "outputs": [
        {
          "output_type": "execute_result",
          "data": {
            "text/plain": [
              "array([[ 15,  34,   1, ...,   0,   0,   0],\n",
              "       [  1,   1,   1, ...,   0,   0,   0],\n",
              "       [ 10,   1, 607, ...,   0,   0,   0]])"
            ]
          },
          "metadata": {},
          "execution_count": 8
        }
      ]
    },
    {
      "cell_type": "markdown",
      "source": [
        "With the default settings, the process cannot be fully reversed. There are two main reasons for this:\n",
        "- The default value for the standardization argument of preprocessing.TextVectorization is \"lower_and_strip_punctuation\".\n",
        "- The limited vocabulary size and the lack of character-based fallback result in some unknown tokens."
      ],
      "metadata": {
        "id": "apjqvoYBMt0P"
      }
    },
    {
      "cell_type": "code",
      "source": [
        "for n in range(3):\n",
        "  print(\"Original: \", example[n].numpy())\n",
        "  print(\"Round-trip: \", \" \".join(vocab[encoded_example[n]]))\n",
        "  print()"
      ],
      "metadata": {
        "id": "rmYV3Bi-Mxiv",
        "outputId": "1f2ade82-6319-45d8-af95-0d7bbd079b15",
        "colab": {
          "base_uri": "https://localhost:8080/"
        }
      },
      "execution_count": null,
      "outputs": [
        {
          "output_type": "stream",
          "name": "stdout",
          "text": [
            "Original:  b\"As an native of Bolton, this film has obvious appeal for me. The location shots are fascinating and show a Bolton very much in transition - there are a number of scenes of apparent dereliction but this serves to show the town being rebuilt - and the idea that the old must make way for the new is right at the heart of this film. A slightly miscast James Mason leads an enjoyable ensemble in a story about a fuss over a herring that spirals into a full-blown generational conflict, then a pleasingly schmaltzy resolution. Though I'm a bit too young to remember it fully, the minutiae of Lancashire life in the 60s is all here: cashing up on a Friday, songs round the piano, the Sunday constitutional, good neighbourliness, the trepidations of courtship, the massive importance of self-respect, and I was pleased to see Naughton's funniest lines from the play left intact. There is no doubt that this film ought to be made available on DVD - it is well crafted and most performances are well realised.\"\n",
            "Round-trip:  as an [UNK] of [UNK] this film has obvious [UNK] for me the [UNK] shots are [UNK] and show a [UNK] very much in [UNK] there are a number of scenes of [UNK] [UNK] but this [UNK] to show the town being [UNK] and the idea that the old must make way for the new is right at the heart of this film a [UNK] [UNK] james [UNK] leads an enjoyable [UNK] in a story about a [UNK] over a [UNK] that [UNK] into a [UNK] [UNK] [UNK] then a [UNK] [UNK] [UNK] though im a bit too young to remember it [UNK] the [UNK] of [UNK] life in the [UNK] is all here [UNK] up on a [UNK] songs [UNK] the [UNK] the [UNK] [UNK] good [UNK] the [UNK] of [UNK] the [UNK] [UNK] of [UNK] and i was [UNK] to see [UNK] [UNK] lines from the play left [UNK] there is no doubt that this film [UNK] to be made [UNK] on dvd it is well [UNK] and most performances are well [UNK]                                                                                                                                                                                                                                                                                                                                                                                                                                                                                                                                                                                                                                                                                                                                                                                                   \n",
            "\n",
            "Original:  b\"Lucy Alexis Liu and Cillian Murphy are both excellent actors, who can certainly rise to any acting challenge put to them.<br /><br />Unfortunately 'Watching the Detectives (2007)' offers only one to both actors and audience alike: not to fall asleep during a mind-numbingly boring, very predictable and unimaginative story.<br /><br />'Watching the Detectives (2007)' tries very hard to be funny, but the comedy is forced, extremely poorly directed and embarrassing to the verge of complete ridicule.<br /><br />After a third of the film still nothing that may capture even the most willing audience, like the director's friends and relatives, is even hinted at, not to mention actually happening.<br /><br />I'm pretty sure everybody who liked it faked it or had to fake it like Neil's ex-girlfriend did when he showed her an old B&W film she couldn't care less about. 'Watching the Detectives (2007)' is nowhere near category B, it falls somewhere between Q & R, like -Questions? and -Repress the questions! The director knows what he's doing! Well, if his goal was to bore the viewer to death, he has done a very good job!<br /><br />'Watching the Detectives (2007)' was a complete waste of time for Lucy Alexis Liu and Cillian Murphy, bur PLEASE don't let it be a waste of your time!<br /><br />Rating: 0 out of 100.\"\n",
            "Round-trip:  [UNK] [UNK] [UNK] and [UNK] [UNK] are both excellent actors who can certainly [UNK] to any acting [UNK] put to [UNK] br unfortunately watching the [UNK] [UNK] [UNK] only one to both actors and audience [UNK] not to fall [UNK] during a [UNK] boring very predictable and [UNK] [UNK] br watching the [UNK] [UNK] tries very hard to be funny but the comedy is forced extremely poorly directed and [UNK] to the [UNK] of complete [UNK] br after a third of the film still nothing that may [UNK] even the most [UNK] audience like the directors friends and [UNK] is even [UNK] at not to mention actually [UNK] br im pretty sure [UNK] who liked it [UNK] it or had to [UNK] it like [UNK] [UNK] did when he [UNK] her an old [UNK] film she couldnt care less about watching the [UNK] [UNK] is [UNK] near [UNK] b it falls [UNK] between [UNK] [UNK] like [UNK] and [UNK] the [UNK] the director knows what hes doing well if his [UNK] was to [UNK] the viewer to death he has done a very good [UNK] br watching the [UNK] [UNK] was a complete waste of time for [UNK] [UNK] [UNK] and [UNK] [UNK] [UNK] please dont let it be a waste of your [UNK] br rating [UNK] out of [UNK]                                                                                                                                                                                                                                                                                                                                                                                                                                                                                                                                                                                                                                                                                                                                                      \n",
            "\n",
            "Original:  b\"I stumbled across this (Act-I) by pure dumb luck and this was more than a decade ago. This was'nt even what the cover label on the tape mentioned. It amazed me. It intimidated me. It shocked me. I eventually forgot about and almost a decade later, I happened to think about it again. Then went and bought both acts. They were even better than I had experienced at first.<br /><br />My only complaint is that while the Tank Police keep on going on and on about being at war with crime, warranting tanks and heavy artillery, it would seem as though they are really having a hard time with criminals. That is either never shown or is simply a lie as they appear to be taking it easy most of the time. If that bit about being in a state of war was really propaganda, it certainly has not been shown as such.<br /><br />I don't think the original Japanese version could have been any where as good as the Americanized version of this. But regarding the story, there has certainly been some proper explanations lost in translation but it can be excused.\"\n",
            "Round-trip:  i [UNK] across this [UNK] by [UNK] dumb [UNK] and this was more than a [UNK] ago this wasnt even what the [UNK] [UNK] on the [UNK] [UNK] it [UNK] me it [UNK] me it [UNK] me i eventually [UNK] about and almost a [UNK] later i happened to think about it again then went and [UNK] both [UNK] they were even better than i had [UNK] at [UNK] br my only [UNK] is that while the [UNK] police keep on going on and on about being at war with crime [UNK] [UNK] and [UNK] [UNK] it would seem as though they are really having a hard time with [UNK] that is either never shown or is simply a [UNK] as they appear to be taking it easy most of the time if that bit about being in a [UNK] of war was really [UNK] it certainly has not been shown as [UNK] br i dont think the original japanese version could have been any where as good as the [UNK] version of this but [UNK] the story there has certainly been some [UNK] [UNK] lost in [UNK] but it can be [UNK]                                                                                                                                                                                                                                                                                                                                                                                                                                                                                                                                                                                                                                                                                                                                                                                 \n",
            "\n"
          ]
        }
      ]
    },
    {
      "cell_type": "markdown",
      "source": [
        "### Step 4 - Create a Model"
      ],
      "metadata": {
        "id": "fZuk76kkM1PR"
      }
    },
    {
      "cell_type": "code",
      "source": [
        "model = tf.keras.Sequential([\n",
        "    encoder,\n",
        "    tf.keras.layers.Embedding(\n",
        "        input_dim=len(encoder.get_vocabulary()),\n",
        "        output_dim=64,\n",
        "        # Use masking to handle the variable sequence lengths\n",
        "        mask_zero=True),\n",
        "    tf.keras.layers.Bidirectional(tf.keras.layers.LSTM(64)),\n",
        "    tf.keras.layers.Dense(64, activation='relu'),\n",
        "    tf.keras.layers.Dense(1)\n",
        "])"
      ],
      "metadata": {
        "id": "xxB9KYd-M8qf"
      },
      "execution_count": null,
      "outputs": []
    },
    {
      "cell_type": "code",
      "source": [
        "print([layer.supports_masking for layer in model.layers])"
      ],
      "metadata": {
        "id": "hI__eZtWM_hv",
        "outputId": "f83da6ae-d437-4e09-f0bd-51bb3eb210bd",
        "colab": {
          "base_uri": "https://localhost:8080/"
        }
      },
      "execution_count": null,
      "outputs": [
        {
          "output_type": "stream",
          "name": "stdout",
          "text": [
            "[False, True, True, True, True]\n"
          ]
        }
      ]
    },
    {
      "cell_type": "code",
      "source": [
        "# predict on a sample text without padding.\n",
        "\n",
        "sample_text = ('The movie was cool. The animation and the graphics '\n",
        "               'were out of this world. I would recommend this movie.')\n",
        "predictions = model.predict(np.array([sample_text]))\n",
        "print(predictions[0])"
      ],
      "metadata": {
        "id": "koaB1-2dNEY_",
        "outputId": "99fab3f6-5b1a-4cc1-97d5-a1cd8b02b7a0",
        "colab": {
          "base_uri": "https://localhost:8080/"
        }
      },
      "execution_count": null,
      "outputs": [
        {
          "output_type": "stream",
          "name": "stdout",
          "text": [
            "1/1 [==============================] - 7s 7s/step\n",
            "[-0.00140158]\n"
          ]
        }
      ]
    },
    {
      "cell_type": "code",
      "source": [
        "model.compile(loss=tf.keras.losses.BinaryCrossentropy(from_logits=True),\n",
        "              optimizer=tf.keras.optimizers.Adam(1e-4),\n",
        "              metrics=['accuracy'])"
      ],
      "metadata": {
        "id": "ioapWIkiNHd3"
      },
      "execution_count": null,
      "outputs": []
    },
    {
      "cell_type": "markdown",
      "source": [
        "### Step 5 - Train Model"
      ],
      "metadata": {
        "id": "z1j9D8QaNKLf"
      }
    },
    {
      "cell_type": "code",
      "source": [
        "history = model.fit(train_dataset, epochs=10,\n",
        "                    validation_data=test_dataset,\n",
        "                    validation_steps=30)"
      ],
      "metadata": {
        "id": "tRtIdm5YNPAX",
        "outputId": "a3502dd0-7b8e-4d38-9ccd-3abe40c20ed3",
        "colab": {
          "base_uri": "https://localhost:8080/"
        }
      },
      "execution_count": null,
      "outputs": [
        {
          "output_type": "stream",
          "name": "stdout",
          "text": [
            "Epoch 1/10\n",
            "391/391 [==============================] - 76s 164ms/step - loss: 0.6396 - accuracy: 0.5718 - val_loss: 0.5057 - val_accuracy: 0.7552\n",
            "Epoch 2/10\n",
            "391/391 [==============================] - 27s 70ms/step - loss: 0.5814 - accuracy: 0.6355 - val_loss: 0.4664 - val_accuracy: 0.7797\n",
            "Epoch 3/10\n",
            "391/391 [==============================] - 26s 67ms/step - loss: 0.3987 - accuracy: 0.8176 - val_loss: 0.3782 - val_accuracy: 0.8214\n",
            "Epoch 4/10\n",
            "391/391 [==============================] - 28s 72ms/step - loss: 0.3467 - accuracy: 0.8472 - val_loss: 0.3538 - val_accuracy: 0.8323\n",
            "Epoch 5/10\n",
            "391/391 [==============================] - 27s 70ms/step - loss: 0.3292 - accuracy: 0.8557 - val_loss: 0.3421 - val_accuracy: 0.8542\n",
            "Epoch 6/10\n",
            "391/391 [==============================] - 35s 88ms/step - loss: 0.3164 - accuracy: 0.8621 - val_loss: 0.3295 - val_accuracy: 0.8484\n",
            "Epoch 7/10\n",
            "391/391 [==============================] - 40s 102ms/step - loss: 0.3109 - accuracy: 0.8648 - val_loss: 0.3332 - val_accuracy: 0.8411\n",
            "Epoch 8/10\n",
            "391/391 [==============================] - 41s 103ms/step - loss: 0.3055 - accuracy: 0.8675 - val_loss: 0.3240 - val_accuracy: 0.8547\n",
            "Epoch 9/10\n",
            "391/391 [==============================] - 28s 71ms/step - loss: 0.3043 - accuracy: 0.8680 - val_loss: 0.3406 - val_accuracy: 0.8375\n",
            "Epoch 10/10\n",
            "391/391 [==============================] - 28s 71ms/step - loss: 0.3007 - accuracy: 0.8691 - val_loss: 0.3215 - val_accuracy: 0.8594\n"
          ]
        }
      ]
    },
    {
      "cell_type": "code",
      "source": [
        "test_loss, test_acc = model.evaluate(test_dataset)\n",
        "\n",
        "print('Test Loss:', test_loss)\n",
        "print('Test Accuracy:', test_acc)"
      ],
      "metadata": {
        "id": "FOp7l6BsN2Un",
        "outputId": "72f5644d-ff97-4122-d3f1-2bf8c3f90c7b",
        "colab": {
          "base_uri": "https://localhost:8080/"
        }
      },
      "execution_count": null,
      "outputs": [
        {
          "output_type": "stream",
          "name": "stdout",
          "text": [
            "391/391 [==============================] - 13s 33ms/step - loss: 0.3207 - accuracy: 0.8590\n",
            "Test Loss: 0.320688933134079\n",
            "Test Accuracy: 0.8590400218963623\n"
          ]
        }
      ]
    },
    {
      "cell_type": "code",
      "source": [
        "plt.figure(figsize=(16, 8))\n",
        "plt.subplot(1, 2, 1)\n",
        "plot_graphs(history, 'accuracy')\n",
        "plt.ylim(None, 1)\n",
        "plt.subplot(1, 2, 2)\n",
        "plot_graphs(history, 'loss')\n",
        "plt.ylim(0, None)"
      ],
      "metadata": {
        "id": "SR70Jg6QN3wX",
        "outputId": "6afd8f5c-760a-4b49-d71c-cc01dcf7691c",
        "colab": {
          "base_uri": "https://localhost:8080/",
          "height": 635
        }
      },
      "execution_count": null,
      "outputs": [
        {
          "output_type": "execute_result",
          "data": {
            "text/plain": [
              "(0.0, 0.6565830573439598)"
            ]
          },
          "metadata": {},
          "execution_count": 16
        },
        {
          "output_type": "display_data",
          "data": {
            "text/plain": [
              "<Figure size 1600x800 with 2 Axes>"
            ],
            "image/png": "[encoded data removed]"
          },
          "metadata": {}
        }
      ]
    },
    {
      "cell_type": "markdown",
      "source": [
        "Run predictions on a new sentence: If the prediction is >= 0.0, it's positive; otherwise, it's negative."
      ],
      "metadata": {
        "id": "xVsjnCHrN6ia"
      }
    },
    {
      "cell_type": "code",
      "source": [
        "sample_text = ('The movie was cool. The animation and the graphics '\n",
        "               'were out of this world. I would recommend this movie.')\n",
        "predictions = model.predict(np.array([sample_text]))"
      ],
      "metadata": {
        "id": "_sfly4xoN7RX",
        "outputId": "59d05ed8-a90a-4408-b314-fb49f6734a48",
        "colab": {
          "base_uri": "https://localhost:8080/"
        }
      },
      "execution_count": null,
      "outputs": [
        {
          "output_type": "stream",
          "name": "stdout",
          "text": [
            "1/1 [==============================] - 2s 2s/step\n"
          ]
        }
      ]
    },
    {
      "cell_type": "markdown",
      "source": [
        "One interesting aspect of using RNNs with return_sequences=True is that the output still has 3 axes, just like the input, so it can be passed to other RNN layers, like this:"
      ],
      "metadata": {
        "id": "ch0Xtn3YOHrf"
      }
    },
    {
      "cell_type": "code",
      "source": [
        "model = tf.keras.Sequential([\n",
        "    encoder,\n",
        "    tf.keras.layers.Embedding(len(encoder.get_vocabulary()), 64, mask_zero=True),\n",
        "    tf.keras.layers.Bidirectional(tf.keras.layers.LSTM(64, return_sequences=True)),\n",
        "    tf.keras.layers.Bidirectional(tf.keras.layers.LSTM(32)),\n",
        "    tf.keras.layers.Dense(64, activation='relu'),\n",
        "    tf.keras.layers.Dropout(0.5),\n",
        "    tf.keras.layers.Dense(1)\n",
        "])"
      ],
      "metadata": {
        "id": "Tw9I2gqGOMUX"
      },
      "execution_count": null,
      "outputs": []
    },
    {
      "cell_type": "code",
      "source": [
        "model.compile(loss=tf.keras.losses.BinaryCrossentropy(from_logits=True),\n",
        "              optimizer=tf.keras.optimizers.Adam(1e-4),\n",
        "              metrics=['accuracy'])"
      ],
      "metadata": {
        "id": "_mQrWoz-OQvv"
      },
      "execution_count": null,
      "outputs": []
    },
    {
      "cell_type": "code",
      "source": [
        "history = model.fit(train_dataset, epochs=10,\n",
        "                    validation_data=test_dataset,\n",
        "                    validation_steps=30)"
      ],
      "metadata": {
        "id": "KM_6f_7lOUKx",
        "outputId": "24302de8-610a-40a0-d55c-f3566f31bec1",
        "colab": {
          "base_uri": "https://localhost:8080/"
        }
      },
      "execution_count": null,
      "outputs": [
        {
          "output_type": "stream",
          "name": "stdout",
          "text": [
            "Epoch 1/10\n",
            "391/391 [==============================] - 84s 165ms/step - loss: 0.6276 - accuracy: 0.5864 - val_loss: 0.4481 - val_accuracy: 0.8141\n",
            "Epoch 2/10\n",
            "391/391 [==============================] - 49s 124ms/step - loss: 0.3890 - accuracy: 0.8295 - val_loss: 0.3513 - val_accuracy: 0.8484\n",
            "Epoch 3/10\n",
            "391/391 [==============================] - 52s 131ms/step - loss: 0.3382 - accuracy: 0.8559 - val_loss: 0.3278 - val_accuracy: 0.8542\n",
            "Epoch 4/10\n",
            "391/391 [==============================] - 50s 127ms/step - loss: 0.3219 - accuracy: 0.8645 - val_loss: 0.3279 - val_accuracy: 0.8557\n",
            "Epoch 5/10\n",
            "391/391 [==============================] - 48s 122ms/step - loss: 0.3123 - accuracy: 0.8687 - val_loss: 0.3194 - val_accuracy: 0.8578\n",
            "Epoch 6/10\n",
            "391/391 [==============================] - 50s 127ms/step - loss: 0.3088 - accuracy: 0.8687 - val_loss: 0.3430 - val_accuracy: 0.8594\n",
            "Epoch 7/10\n",
            "391/391 [==============================] - 50s 128ms/step - loss: 0.3036 - accuracy: 0.8716 - val_loss: 0.3217 - val_accuracy: 0.8667\n",
            "Epoch 8/10\n",
            "391/391 [==============================] - 50s 128ms/step - loss: 0.2989 - accuracy: 0.8717 - val_loss: 0.3174 - val_accuracy: 0.8625\n",
            "Epoch 9/10\n",
            "391/391 [==============================] - 48s 123ms/step - loss: 0.3005 - accuracy: 0.8734 - val_loss: 0.3481 - val_accuracy: 0.8578\n",
            "Epoch 10/10\n",
            "391/391 [==============================] - 50s 127ms/step - loss: 0.2966 - accuracy: 0.8717 - val_loss: 0.3273 - val_accuracy: 0.8385\n"
          ]
        }
      ]
    },
    {
      "cell_type": "code",
      "source": [
        "test_loss, test_acc = model.evaluate(test_dataset)\n",
        "\n",
        "print('Test Loss:', test_loss)\n",
        "print('Test Accuracy:', test_acc)"
      ],
      "metadata": {
        "id": "omvCbPAmOb9w",
        "outputId": "2686b3f0-2fcd-4144-ac07-a92eaa8198a0",
        "colab": {
          "base_uri": "https://localhost:8080/"
        }
      },
      "execution_count": null,
      "outputs": [
        {
          "output_type": "stream",
          "name": "stdout",
          "text": [
            "391/391 [==============================] - 21s 54ms/step - loss: 0.3244 - accuracy: 0.8402\n",
            "Test Loss: 0.3244428038597107\n",
            "Test Accuracy: 0.8401600122451782\n"
          ]
        }
      ]
    },
    {
      "cell_type": "code",
      "source": [
        "# predict on a sample text without padding.\n",
        "\n",
        "sample_text = ('The movie was not good. The animation and the graphics '\n",
        "               'were terrible. I would not recommend this movie.')\n",
        "predictions = model.predict(np.array([sample_text]))\n",
        "print(predictions)"
      ],
      "metadata": {
        "id": "a3XcrwT3OiYI",
        "outputId": "0bb9bd1b-4a51-4983-a924-6a779dde0fbb",
        "colab": {
          "base_uri": "https://localhost:8080/"
        }
      },
      "execution_count": null,
      "outputs": [
        {
          "output_type": "stream",
          "name": "stdout",
          "text": [
            "1/1 [==============================] - 7s 7s/step\n",
            "[[-1.8979416]]\n"
          ]
        }
      ]
    },
    {
      "cell_type": "code",
      "source": [
        "plt.figure(figsize=(16, 6))\n",
        "plt.subplot(1, 2, 1)\n",
        "plot_graphs(history, 'accuracy')\n",
        "plt.subplot(1, 2, 2)\n",
        "plot_graphs(history, 'loss')"
      ],
      "metadata": {
        "id": "gj4rFb9LOmy4",
        "outputId": "85b7229b-4955-4269-be83-a0acd406c68e",
        "colab": {
          "base_uri": "https://localhost:8080/",
          "height": 478
        }
      },
      "execution_count": null,
      "outputs": [
        {
          "output_type": "display_data",
          "data": {
            "text/plain": [
              "<Figure size 1600x600 with 2 Axes>"
            ],
            "image/png": "[encoded data removed]"
          },
          "metadata": {}
        }
      ]
    },
    {
      "cell_type": "markdown",
      "source": [
        "# Lab Work 2\n",
        "*Text Generator with RNN*\n",
        "\n",
        "### Step 1 - Setup\n",
        "**Import TenserFlow**"
      ],
      "metadata": {
        "id": "zkfCtwzbO6hx"
      }
    },
    {
      "cell_type": "code",
      "source": [
        "import tensorflow as tf\n",
        "import numpy as np\n",
        "import os\n",
        "import time"
      ],
      "metadata": {
        "id": "2KviQ5kGPGr5"
      },
      "execution_count": 2,
      "outputs": []
    },
    {
      "cell_type": "markdown",
      "source": [
        "**Download Dataset Shakespeare**"
      ],
      "metadata": {
        "id": "n1bCMQ0hPIOZ"
      }
    },
    {
      "cell_type": "code",
      "source": [
        "path_to_file = tf.keras.utils.get_file('shakespeare.txt', 'https://storage.googleapis.com/download.tensorflow.org/data/shakespeare.txt')"
      ],
      "metadata": {
        "id": "ILORCa5EPKXA",
        "outputId": "080107cc-0783-40a4-d25a-2f93f9fe8bc8",
        "colab": {
          "base_uri": "https://localhost:8080/"
        }
      },
      "execution_count": 3,
      "outputs": [
        {
          "output_type": "stream",
          "name": "stdout",
          "text": [
            "Downloading data from https://storage.googleapis.com/download.tensorflow.org/data/shakespeare.txt\n",
            "1115394/1115394 [==============================] - 0s 0us/step\n"
          ]
        }
      ]
    },
    {
      "cell_type": "markdown",
      "source": [
        "**Load Data**"
      ],
      "metadata": {
        "id": "6It9ydRsPcPL"
      }
    },
    {
      "cell_type": "code",
      "source": [
        "# Read, then decode for py2 compat.\n",
        "text = open(path_to_file, 'rb').read().decode(encoding='utf-8')\n",
        "# length of text is the number of characters in it\n",
        "print(f'Length of text: {len(text)} characters')"
      ],
      "metadata": {
        "id": "mrw_JtJvPc6J",
        "outputId": "939e3fd9-8abd-43df-87af-e352c80b43fd",
        "colab": {
          "base_uri": "https://localhost:8080/"
        }
      },
      "execution_count": 4,
      "outputs": [
        {
          "output_type": "stream",
          "name": "stdout",
          "text": [
            "Length of text: 1115394 characters\n"
          ]
        }
      ]
    },
    {
      "cell_type": "code",
      "source": [
        "# Take a look at the first 250 characters in text\n",
        "print(text[:250])"
      ],
      "metadata": {
        "id": "RYQKaQiMPeVh",
        "outputId": "b6e1da1c-18fd-4e66-dc6f-10614a488459",
        "colab": {
          "base_uri": "https://localhost:8080/"
        }
      },
      "execution_count": 5,
      "outputs": [
        {
          "output_type": "stream",
          "name": "stdout",
          "text": [
            "First Citizen:\n",
            "Before we proceed any further, hear me speak.\n",
            "\n",
            "All:\n",
            "Speak, speak.\n",
            "\n",
            "First Citizen:\n",
            "You are all resolved rather to die than to famish?\n",
            "\n",
            "All:\n",
            "Resolved. resolved.\n",
            "\n",
            "First Citizen:\n",
            "First, you know Caius Marcius is chief enemy to the people.\n",
            "\n"
          ]
        }
      ]
    },
    {
      "cell_type": "code",
      "source": [
        "# The unique characters in the file\n",
        "vocab = sorted(set(text))\n",
        "print(f'{len(vocab)} unique characters')"
      ],
      "metadata": {
        "id": "AMpX0X6kPgBZ",
        "outputId": "2c0d9629-0225-4b24-ad02-16fb68ad0387",
        "colab": {
          "base_uri": "https://localhost:8080/"
        }
      },
      "execution_count": 6,
      "outputs": [
        {
          "output_type": "stream",
          "name": "stdout",
          "text": [
            "65 unique characters\n"
          ]
        }
      ]
    },
    {
      "cell_type": "markdown",
      "source": [
        "### Step 2 - Text Processing\n",
        "**Vectorize Text**"
      ],
      "metadata": {
        "id": "_zwciHiPP0vy"
      }
    },
    {
      "cell_type": "code",
      "source": [
        "example_texts = ['abcdefg', 'xyz']\n",
        "chars = tf.strings.unicode_split(example_texts, input_encoding='UTF-8')\n",
        "chars"
      ],
      "metadata": {
        "id": "1zlOC64zP9K5",
        "outputId": "7eb15f16-7624-47b9-dcb3-c0e9192a91ce",
        "colab": {
          "base_uri": "https://localhost:8080/"
        }
      },
      "execution_count": 7,
      "outputs": [
        {
          "output_type": "execute_result",
          "data": {
            "text/plain": [
              "<tf.RaggedTensor [[b'a', b'b', b'c', b'd', b'e', b'f', b'g'], [b'x', b'y', b'z']]>"
            ]
          },
          "metadata": {},
          "execution_count": 7
        }
      ]
    },
    {
      "cell_type": "markdown",
      "source": [
        "Now create the tf.keras.layers.StringLookup layer:"
      ],
      "metadata": {
        "id": "bVdY3ZnGQcRK"
      }
    },
    {
      "cell_type": "code",
      "source": [
        "ids_from_chars = tf.keras.layers.StringLookup(\n",
        "vocabulary=list(vocab), mask_token=None)"
      ],
      "metadata": {
        "id": "KTNIpQAEQfGw"
      },
      "execution_count": 8,
      "outputs": []
    },
    {
      "cell_type": "markdown",
      "source": [
        "The above command converts tokens into IDs."
      ],
      "metadata": {
        "id": "5kxzNwWFQm1Q"
      }
    },
    {
      "cell_type": "code",
      "source": [
        "ids = ids_from_chars(chars)\n",
        "ids"
      ],
      "metadata": {
        "id": "dvbVNPhCQopZ",
        "outputId": "b47c47bb-2af9-46e2-a2f3-465420baf8fa",
        "colab": {
          "base_uri": "https://localhost:8080/"
        }
      },
      "execution_count": 9,
      "outputs": [
        {
          "output_type": "execute_result",
          "data": {
            "text/plain": [
              "<tf.RaggedTensor [[40, 41, 42, 43, 44, 45, 46], [63, 64, 65]]>"
            ]
          },
          "metadata": {},
          "execution_count": 9
        }
      ]
    },
    {
      "cell_type": "markdown",
      "source": [
        "Since the goal of this tutorial is to generate text, it's also important to reverse this representation. For this, you can use the tf.keras.layers.StringLookup(..., invert=True) code."
      ],
      "metadata": {
        "id": "4YCGwZZHQzKh"
      }
    },
    {
      "cell_type": "code",
      "source": [
        "chars_from_ids = tf.keras.layers.StringLookup(\n",
        "    vocabulary=ids_from_chars.get_vocabulary(), invert=True, mask_token=None)"
      ],
      "metadata": {
        "id": "0OsJL33AQvUU"
      },
      "execution_count": 10,
      "outputs": []
    },
    {
      "cell_type": "markdown",
      "source": [
        "This layer converts characters back from the ID vector and returns them as a tf.RaggedTensor:"
      ],
      "metadata": {
        "id": "mIVvBtbjQ2nC"
      }
    },
    {
      "cell_type": "code",
      "source": [
        "chars = chars_from_ids(ids)\n",
        "chars"
      ],
      "metadata": {
        "id": "_YE2WmUvQ4YS",
        "outputId": "f67b1746-6de8-440e-a3e4-b8692856b1f8",
        "colab": {
          "base_uri": "https://localhost:8080/"
        }
      },
      "execution_count": 11,
      "outputs": [
        {
          "output_type": "execute_result",
          "data": {
            "text/plain": [
              "<tf.RaggedTensor [[b'a', b'b', b'c', b'd', b'e', b'f', b'g'], [b'x', b'y', b'z']]>"
            ]
          },
          "metadata": {},
          "execution_count": 11
        }
      ]
    },
    {
      "cell_type": "markdown",
      "source": [
        "You can use tf.strings.reduce_join to recombine characters into a string."
      ],
      "metadata": {
        "id": "3kvGUBzQQ7gJ"
      }
    },
    {
      "cell_type": "code",
      "source": [
        "tf.strings.reduce_join(chars, axis=-1).numpy()"
      ],
      "metadata": {
        "colab": {
          "base_uri": "https://localhost:8080/"
        },
        "id": "8dRI2Wx4Q-GR",
        "outputId": "127dce99-e57e-4436-8308-ee9a0a0f7abf"
      },
      "execution_count": 12,
      "outputs": [
        {
          "output_type": "execute_result",
          "data": {
            "text/plain": [
              "array([b'abcdefg', b'xyz'], dtype=object)"
            ]
          },
          "metadata": {},
          "execution_count": 12
        }
      ]
    },
    {
      "cell_type": "code",
      "source": [
        "tf.strings.reduce_join(chars, axis=-1).numpy()"
      ],
      "metadata": {
        "id": "PDDghSSER2hS",
        "outputId": "c3ef0ad4-e32f-44fd-e25c-5238dc13bc13",
        "colab": {
          "base_uri": "https://localhost:8080/"
        }
      },
      "execution_count": 13,
      "outputs": [
        {
          "output_type": "execute_result",
          "data": {
            "text/plain": [
              "array([b'abcdefg', b'xyz'], dtype=object)"
            ]
          },
          "metadata": {},
          "execution_count": 13
        }
      ]
    },
    {
      "cell_type": "markdown",
      "source": [
        "**Prediction**"
      ],
      "metadata": {
        "id": "PfAoSyw9R3TY"
      }
    },
    {
      "cell_type": "markdown",
      "source": [
        "**Creating the Training Set and Target**"
      ],
      "metadata": {
        "id": "zwsSV7YCR8Pn"
      }
    },
    {
      "cell_type": "code",
      "source": [
        "all_ids = ids_from_chars(tf.strings.unicode_split(text, 'UTF-8'))\n",
        "all_ids"
      ],
      "metadata": {
        "id": "pCg-n-R3R_XY",
        "outputId": "3db48a12-860a-4a30-8639-82eac2b08db9",
        "colab": {
          "base_uri": "https://localhost:8080/"
        }
      },
      "execution_count": 14,
      "outputs": [
        {
          "output_type": "execute_result",
          "data": {
            "text/plain": [
              "<tf.Tensor: shape=(1115394,), dtype=int64, numpy=array([19, 48, 57, ..., 46,  9,  1])>"
            ]
          },
          "metadata": {},
          "execution_count": 14
        }
      ]
    },
    {
      "cell_type": "code",
      "source": [
        "ids_dataset = tf.data.Dataset.from_tensor_slices(all_ids)"
      ],
      "metadata": {
        "id": "eFaabaU7SCbM"
      },
      "execution_count": 15,
      "outputs": []
    },
    {
      "cell_type": "code",
      "source": [
        "for ids in ids_dataset.take(10):\n",
        "    print(chars_from_ids(ids).numpy().decode('utf-8'))"
      ],
      "metadata": {
        "id": "P06EEq4bSEZw",
        "outputId": "0bf1b09f-6beb-46e4-d56a-11cd16e81147",
        "colab": {
          "base_uri": "https://localhost:8080/"
        }
      },
      "execution_count": 16,
      "outputs": [
        {
          "output_type": "stream",
          "name": "stdout",
          "text": [
            "F\n",
            "i\n",
            "r\n",
            "s\n",
            "t\n",
            " \n",
            "C\n",
            "i\n",
            "t\n",
            "i\n"
          ]
        }
      ]
    },
    {
      "cell_type": "code",
      "source": [
        "seq_length = 100"
      ],
      "metadata": {
        "id": "1-fpUDqTSI54"
      },
      "execution_count": 17,
      "outputs": []
    },
    {
      "cell_type": "markdown",
      "source": [
        "The batch method allows you to easily convert these individual characters into a desired size sequence."
      ],
      "metadata": {
        "id": "r_sn7kb8SOiw"
      }
    },
    {
      "cell_type": "code",
      "source": [
        "sequences = ids_dataset.batch(seq_length+1, drop_remainder=True)\n",
        "\n",
        "for seq in sequences.take(1):\n",
        "  print(chars_from_ids(seq))"
      ],
      "metadata": {
        "id": "wRlsMdfMSQ1o",
        "outputId": "9a627f55-1377-4c09-8196-21871436528d",
        "colab": {
          "base_uri": "https://localhost:8080/"
        }
      },
      "execution_count": 18,
      "outputs": [
        {
          "output_type": "stream",
          "name": "stdout",
          "text": [
            "tf.Tensor(\n",
            "[b'F' b'i' b'r' b's' b't' b' ' b'C' b'i' b't' b'i' b'z' b'e' b'n' b':'\n",
            " b'\\n' b'B' b'e' b'f' b'o' b'r' b'e' b' ' b'w' b'e' b' ' b'p' b'r' b'o'\n",
            " b'c' b'e' b'e' b'd' b' ' b'a' b'n' b'y' b' ' b'f' b'u' b'r' b't' b'h'\n",
            " b'e' b'r' b',' b' ' b'h' b'e' b'a' b'r' b' ' b'm' b'e' b' ' b's' b'p'\n",
            " b'e' b'a' b'k' b'.' b'\\n' b'\\n' b'A' b'l' b'l' b':' b'\\n' b'S' b'p' b'e'\n",
            " b'a' b'k' b',' b' ' b's' b'p' b'e' b'a' b'k' b'.' b'\\n' b'\\n' b'F' b'i'\n",
            " b'r' b's' b't' b' ' b'C' b'i' b't' b'i' b'z' b'e' b'n' b':' b'\\n' b'Y'\n",
            " b'o' b'u' b' '], shape=(101,), dtype=string)\n"
          ]
        }
      ]
    },
    {
      "cell_type": "markdown",
      "source": [
        "It will be easier to see what this does if you recombine the tokens back into a string:"
      ],
      "metadata": {
        "id": "9wUtXDoQSSaH"
      }
    },
    {
      "cell_type": "code",
      "source": [
        "ids_from_chars = tf.keras.layers.StringLookup(\n",
        "    vocabulary=ids_from_chars.get_vocabulary(), invert=True, mask_token=None)\n",
        "\n",
        "def text_from_ids(ids):\n",
        "    return tf.strings.reduce_join(ids_from_chars(ids), axis=-1).numpy()"
      ],
      "metadata": {
        "id": "z8A0cDbxGo8m"
      },
      "execution_count": 19,
      "outputs": []
    },
    {
      "cell_type": "code",
      "source": [
        "for seq in sequences.take(5):\n",
        "    print(text_from_ids(seq))"
      ],
      "metadata": {
        "id": "8EwJ72gySUu4",
        "outputId": "5cacbfa0-6fe8-4dba-ba4b-009b87ed3259",
        "colab": {
          "base_uri": "https://localhost:8080/"
        }
      },
      "execution_count": 20,
      "outputs": [
        {
          "output_type": "stream",
          "name": "stdout",
          "text": [
            "b'First Citizen:\\nBefore we proceed any further, hear me speak.\\n\\nAll:\\nSpeak, speak.\\n\\nFirst Citizen:\\nYou '\n",
            "b'are all resolved rather to die than to famish?\\n\\nAll:\\nResolved. resolved.\\n\\nFirst Citizen:\\nFirst, you k'\n",
            "b\"now Caius Marcius is chief enemy to the people.\\n\\nAll:\\nWe know't, we know't.\\n\\nFirst Citizen:\\nLet us ki\"\n",
            "b\"ll him, and we'll have corn at our own price.\\nIs't a verdict?\\n\\nAll:\\nNo more talking on't; let it be d\"\n",
            "b'one: away, away!\\n\\nSecond Citizen:\\nOne word, good citizens.\\n\\nFirst Citizen:\\nWe are accounted poor citi'\n"
          ]
        }
      ]
    },
    {
      "cell_type": "markdown",
      "source": [
        "For training, you need a dataset of pairs (input, label), where input and label are sequences. At each time step, the input is the current character, and the label is the next character. Here's a function that takes a sequence as input, duplicates, and shifts it to align the input and label for each time step:"
      ],
      "metadata": {
        "id": "k5AJkMTtSYyg"
      }
    },
    {
      "cell_type": "code",
      "source": [
        "def split_input_target(sequence):\n",
        "    input_text = sequence[:-1]\n",
        "    target_text = sequence[1:]\n",
        "    return input_text, target_text"
      ],
      "metadata": {
        "id": "5N-PJcdcSc0_"
      },
      "execution_count": 21,
      "outputs": []
    },
    {
      "cell_type": "code",
      "source": [
        "split_input_target(list(\"Tensorflow\"))"
      ],
      "metadata": {
        "id": "5LUQSZEQSkWg",
        "outputId": "56fd1947-30a8-4795-ed1d-a42e96e2fc80",
        "colab": {
          "base_uri": "https://localhost:8080/"
        }
      },
      "execution_count": 22,
      "outputs": [
        {
          "output_type": "execute_result",
          "data": {
            "text/plain": [
              "(['T', 'e', 'n', 's', 'o', 'r', 'f', 'l', 'o'],\n",
              " ['e', 'n', 's', 'o', 'r', 'f', 'l', 'o', 'w'])"
            ]
          },
          "metadata": {},
          "execution_count": 22
        }
      ]
    },
    {
      "cell_type": "code",
      "source": [
        "dataset = sequences.map(split_input_target)"
      ],
      "metadata": {
        "id": "jiBnDbhpSlIP"
      },
      "execution_count": 23,
      "outputs": []
    },
    {
      "cell_type": "code",
      "source": [
        "for input_example, target_example in dataset.take(1):\n",
        "    print(\"Input :\", text_from_ids(input_example))\n",
        "    print(\"Target:\", text_from_ids(target_example))"
      ],
      "metadata": {
        "id": "Rc55D6nKSnf7",
        "outputId": "d716b8ef-ae79-412c-bd9e-8491dda26028",
        "colab": {
          "base_uri": "https://localhost:8080/"
        }
      },
      "execution_count": 24,
      "outputs": [
        {
          "output_type": "stream",
          "name": "stdout",
          "text": [
            "Input : b'First Citizen:\\nBefore we proceed any further, hear me speak.\\n\\nAll:\\nSpeak, speak.\\n\\nFirst Citizen:\\nYou'\n",
            "Target: b'irst Citizen:\\nBefore we proceed any further, hear me speak.\\n\\nAll:\\nSpeak, speak.\\n\\nFirst Citizen:\\nYou '\n"
          ]
        }
      ]
    },
    {
      "cell_type": "markdown",
      "source": [
        "**Creating Batch Training**"
      ],
      "metadata": {
        "id": "v7WofsxDSu-4"
      }
    },
    {
      "cell_type": "code",
      "source": [
        "# Batch size\n",
        "BATCH_SIZE = 64\n",
        "\n",
        "# Buffer size to shuffle the dataset\n",
        "# (TF data is designed to work with possibly infinite sequences,\n",
        "# so it doesn't attempt to shuffle the entire sequence in memory. Instead,\n",
        "# it maintains a buffer in which it shuffles elements).\n",
        "BUFFER_SIZE = 10000\n",
        "\n",
        "dataset = (\n",
        "    dataset\n",
        "    .shuffle(BUFFER_SIZE)\n",
        "    .batch(BATCH_SIZE, drop_remainder=True)\n",
        "    .prefetch(tf.data.experimental.AUTOTUNE))\n",
        "\n",
        "dataset"
      ],
      "metadata": {
        "id": "tdwFME45S36g",
        "outputId": "2c191e14-7ca7-4484-c349-de3c77103ef5",
        "colab": {
          "base_uri": "https://localhost:8080/"
        }
      },
      "execution_count": 25,
      "outputs": [
        {
          "output_type": "execute_result",
          "data": {
            "text/plain": [
              "<_PrefetchDataset element_spec=(TensorSpec(shape=(64, 100), dtype=tf.int64, name=None), TensorSpec(shape=(64, 100), dtype=tf.int64, name=None))>"
            ]
          },
          "metadata": {},
          "execution_count": 25
        }
      ]
    },
    {
      "cell_type": "markdown",
      "source": [
        "### Step 3 - Create a Model"
      ],
      "metadata": {
        "id": "r-75IPofTNcI"
      }
    },
    {
      "cell_type": "code",
      "source": [
        "# Length of the vocabulary in StringLookup Layer\n",
        "vocab_size = len(ids_from_chars.get_vocabulary())\n",
        "\n",
        "# The embedding dimension\n",
        "embedding_dim = 256\n",
        "\n",
        "# Number of RNN units\n",
        "rnn_units = 1024"
      ],
      "metadata": {
        "id": "KKVrOySqTUcI"
      },
      "execution_count": 26,
      "outputs": []
    },
    {
      "cell_type": "code",
      "source": [
        "class MyModel(tf.keras.Model):\n",
        "  def __init__(self, vocab_size, embedding_dim, rnn_units):\n",
        "    super().__init__(self)\n",
        "    self.embedding = tf.keras.layers.Embedding(vocab_size, embedding_dim)\n",
        "    self.gru = tf.keras.layers.GRU(rnn_units,\n",
        "                                   return_sequences=True,\n",
        "                                   return_state=True)\n",
        "    self.dense = tf.keras.layers.Dense(vocab_size)\n",
        "\n",
        "  def call(self, inputs, states=None, return_state=False, training=False):\n",
        "    x = inputs\n",
        "    x = self.embedding(x, training=training)\n",
        "    if states is None:\n",
        "      states = self.gru.get_initial_state(x)\n",
        "    x, states = self.gru(x, initial_state=states, training=training)\n",
        "    x = self.dense(x, training=training)\n",
        "\n",
        "    if return_state:\n",
        "      return x, states\n",
        "    else:\n",
        "      return x"
      ],
      "metadata": {
        "id": "1oJZJI-kTVDb"
      },
      "execution_count": 27,
      "outputs": []
    },
    {
      "cell_type": "code",
      "source": [
        "model = MyModel(\n",
        "    vocab_size=vocab_size,\n",
        "    embedding_dim=embedding_dim,\n",
        "    rnn_units=rnn_units)"
      ],
      "metadata": {
        "id": "UptzLCURTXPH"
      },
      "execution_count": 28,
      "outputs": []
    },
    {
      "cell_type": "markdown",
      "source": [
        "### Step 4 - Test the Model\n",
        "First, check the shape of the output"
      ],
      "metadata": {
        "id": "xKm0bfgcTYxu"
      }
    },
    {
      "cell_type": "code",
      "source": [
        "for input_example_batch, target_example_batch in dataset.take(1):\n",
        "    example_batch_predictions = model(input_example_batch)\n",
        "    print(example_batch_predictions.shape, \"# (batch_size, sequence_length, vocab_size)\")"
      ],
      "metadata": {
        "id": "N37Wbp8mTeaf",
        "outputId": "5eddd8ad-58fa-4cca-89b9-71147db87c1d",
        "colab": {
          "base_uri": "https://localhost:8080/"
        }
      },
      "execution_count": 29,
      "outputs": [
        {
          "output_type": "stream",
          "name": "stdout",
          "text": [
            "(64, 100, 66) # (batch_size, sequence_length, vocab_size)\n"
          ]
        }
      ]
    },
    {
      "cell_type": "markdown",
      "source": [
        "In the example above, the input sequence length is 100, but the model can be run on input of any length:"
      ],
      "metadata": {
        "id": "RwbZoZyJTi7f"
      }
    },
    {
      "cell_type": "code",
      "source": [
        "model.summary()"
      ],
      "metadata": {
        "id": "Kn78lGZtTkmw",
        "outputId": "b7dc7dee-3ea1-49ff-b12c-fac601b2c35a",
        "colab": {
          "base_uri": "https://localhost:8080/"
        }
      },
      "execution_count": 30,
      "outputs": [
        {
          "output_type": "stream",
          "name": "stdout",
          "text": [
            "Model: \"my_model\"\n",
            "_________________________________________________________________\n",
            " Layer (type)                Output Shape              Param #   \n",
            "=================================================================\n",
            " embedding (Embedding)       multiple                  16896     \n",
            "                                                                 \n",
            " gru (GRU)                   multiple                  3938304   \n",
            "                                                                 \n",
            " dense (Dense)               multiple                  67650     \n",
            "                                                                 \n",
            "=================================================================\n",
            "Total params: 4022850 (15.35 MB)\n",
            "Trainable params: 4022850 (15.35 MB)\n",
            "Non-trainable params: 0 (0.00 Byte)\n",
            "_________________________________________________________________\n"
          ]
        }
      ]
    },
    {
      "cell_type": "markdown",
      "source": [
        "To get the actual predictions from the model, you need to sample from the output distribution to obtain the actual character index. This distribution is determined by the logits over the character vocabulary. Note: It is important to sample from this distribution because taking the argmax of the distribution can easily get the model stuck in an infinite loop. Try it for the first example in the batch:"
      ],
      "metadata": {
        "id": "PuFmoMYCTmg3"
      }
    },
    {
      "cell_type": "code",
      "source": [
        "sampled_indices = tf.random.categorical(example_batch_predictions[0], num_samples=1)\n",
        "sampled_indices = tf.squeeze(sampled_indices, axis=-1).numpy()"
      ],
      "metadata": {
        "id": "y-Z0mkRLToZU"
      },
      "execution_count": 31,
      "outputs": []
    },
    {
      "cell_type": "markdown",
      "source": [
        "This gives us, at each time step, the predicted index of the next character:"
      ],
      "metadata": {
        "id": "0uXQ8LLZTuOB"
      }
    },
    {
      "cell_type": "code",
      "source": [
        "sampled_indices"
      ],
      "metadata": {
        "id": "abylnvceTwKI",
        "outputId": "5d4a0b3f-84c0-4033-cd5b-d73fe6c4ba54",
        "colab": {
          "base_uri": "https://localhost:8080/"
        }
      },
      "execution_count": 32,
      "outputs": [
        {
          "output_type": "execute_result",
          "data": {
            "text/plain": [
              "array([40, 10, 11, 49, 56, 38, 39, 19, 24, 31,  0, 38, 18, 65, 18, 19, 51,\n",
              "       11, 12,  9, 64, 62, 61, 36, 33, 57, 54, 24, 43, 52, 32, 41, 14, 24,\n",
              "       23, 62, 46, 54, 46,  0, 40, 15, 33,  1, 26, 47, 50, 26, 64, 64,  1,\n",
              "       17, 64, 35, 36, 51, 39, 42,  9, 57, 52, 65, 46, 17, 45, 29, 55, 49,\n",
              "       27, 65, 46, 17, 31, 38, 21, 48, 55,  9,  3, 39, 53, 48, 64, 35,  3,\n",
              "       10, 21,  9, 21,  9,  9, 32, 16, 34, 26, 27, 64, 33, 19, 29])"
            ]
          },
          "metadata": {},
          "execution_count": 32
        }
      ]
    },
    {
      "cell_type": "markdown",
      "source": [
        "Decode the code below to see the text predicted by this untrained model:"
      ],
      "metadata": {
        "id": "tp1c3NLUTyCy"
      }
    },
    {
      "cell_type": "code",
      "source": [
        "print(\"Input:\\n\", text_from_ids(input_example_batch[0]))\n",
        "print()\n",
        "print(\"Next Char Predictions:\\n\", text_from_ids(sampled_indices))"
      ],
      "metadata": {
        "id": "N_stwnlYT0_H",
        "outputId": "02febb03-9851-4420-b351-ab9b66e7852e",
        "colab": {
          "base_uri": "https://localhost:8080/"
        }
      },
      "execution_count": 33,
      "outputs": [
        {
          "output_type": "stream",
          "name": "stdout",
          "text": [
            "Input:\n",
            " b'mberland.\\n\\nNORTHUMBERLAND:\\nThe commons will not then be satisfied.\\n\\nKING RICHARD II:\\nThey shall be s'\n",
            "\n",
            "Next Char Predictions:\n",
            " b'a3:jqYZFKR[UNK]YEzEFl:;.ywvWTroKdmSbAKJwgog[UNK]aBT\\nMhkMyy\\nDyVWlZc.rmzgDfPpjNzgDRYHip.!ZniyV!3H.H..SCUMNyTFP'\n"
          ]
        }
      ]
    },
    {
      "cell_type": "markdown",
      "source": [
        "### Step 5 - Train the Model\n",
        "**Additional optimizer and loss function**\n"
      ],
      "metadata": {
        "id": "R3Dodk_vT4l3"
      }
    },
    {
      "cell_type": "markdown",
      "source": [
        "The standard tf.keras.losses.sparse_categorical_crossentropy loss function works in this case because it is applied over the last dimension of predictions. Since your model returns logits, you need to set the from_logits flag."
      ],
      "metadata": {
        "id": "YIjGuZ7IUJ0n"
      }
    },
    {
      "cell_type": "code",
      "source": [
        "loss = tf.losses.SparseCategoricalCrossentropy(from_logits=True)"
      ],
      "metadata": {
        "id": "BSnvxqZGUF7v"
      },
      "execution_count": 34,
      "outputs": []
    },
    {
      "cell_type": "code",
      "source": [
        "example_batch_mean_loss = loss(target_example_batch, example_batch_predictions)\n",
        "print(\"Prediction shape: \", example_batch_predictions.shape, \" # (batch_size, sequence_length, vocab_size)\")\n",
        "print(\"Mean loss:        \", example_batch_mean_loss)"
      ],
      "metadata": {
        "id": "3V06q363ULC3",
        "outputId": "36a6a05a-1257-4eea-aa3b-b3170d58e0f0",
        "colab": {
          "base_uri": "https://localhost:8080/"
        }
      },
      "execution_count": 35,
      "outputs": [
        {
          "output_type": "stream",
          "name": "stdout",
          "text": [
            "Prediction shape:  (64, 100, 66)  # (batch_size, sequence_length, vocab_size)\n",
            "Mean loss:         tf.Tensor(4.1891437, shape=(), dtype=float32)\n"
          ]
        }
      ]
    },
    {
      "cell_type": "markdown",
      "source": [
        "A newly initialized model shouldn't be too confident in itself; all log outputs should have similar magnitudes. To confirm this, you can check that the exponential of the average loss is approximately equal to the size of the vocabulary. A significantly higher loss means that the model is too confident about the wrong answers and has poor initialization."
      ],
      "metadata": {
        "id": "4uUSJiftUNOP"
      }
    },
    {
      "cell_type": "code",
      "source": [
        "tf.exp(example_batch_mean_loss).numpy()"
      ],
      "metadata": {
        "id": "8tT1LjqlUP5J",
        "outputId": "aca0e4ca-b114-493c-c4f1-8632fc44d772",
        "colab": {
          "base_uri": "https://localhost:8080/"
        }
      },
      "execution_count": 36,
      "outputs": [
        {
          "output_type": "execute_result",
          "data": {
            "text/plain": [
              "65.96628"
            ]
          },
          "metadata": {},
          "execution_count": 36
        }
      ]
    },
    {
      "cell_type": "markdown",
      "source": [
        "Configure the training procedure using the tf.keras.Model.compile method. Use tf.keras.optimizers.Adam with default arguments and the specified loss function."
      ],
      "metadata": {
        "id": "Oha6qTHmUR0g"
      }
    },
    {
      "cell_type": "code",
      "source": [
        "model.compile(optimizer='adam', loss=loss)"
      ],
      "metadata": {
        "id": "nIVjGdfsUUYH"
      },
      "execution_count": 37,
      "outputs": []
    },
    {
      "cell_type": "markdown",
      "source": [
        "**Configure Checkpoints**\n"
      ],
      "metadata": {
        "id": "wdfDFDBdUiYh"
      }
    },
    {
      "cell_type": "markdown",
      "source": [
        "Use tf.keras.callbacks.ModelCheckpoint to ensure that checkpoints are saved during training:"
      ],
      "metadata": {
        "id": "Inzf3Kd_Ur6H"
      }
    },
    {
      "cell_type": "code",
      "source": [
        "# Directory where the checkpoints will be saved\n",
        "checkpoint_dir = './training_checkpoints'\n",
        "# Name of the checkpoint files\n",
        "checkpoint_prefix = os.path.join(checkpoint_dir, \"ckpt_{epoch}\")\n",
        "\n",
        "checkpoint_callback = tf.keras.callbacks.ModelCheckpoint(\n",
        "    filepath=checkpoint_prefix,\n",
        "    save_weights_only=True)"
      ],
      "metadata": {
        "id": "Fxuojq5tUljA"
      },
      "execution_count": 38,
      "outputs": []
    },
    {
      "cell_type": "markdown",
      "source": [
        "**Run the Training Process**"
      ],
      "metadata": {
        "id": "YVIQQT-rUwKw"
      }
    },
    {
      "cell_type": "code",
      "source": [
        "EPOCHS = 10"
      ],
      "metadata": {
        "id": "mBT0Fni_W9-g"
      },
      "execution_count": 39,
      "outputs": []
    },
    {
      "cell_type": "code",
      "source": [
        "history = model.fit(dataset, epochs=EPOCHS, callbacks=[checkpoint_callback])"
      ],
      "metadata": {
        "id": "9igyg5aRXAUh",
        "outputId": "c1718878-64a1-4e2c-b037-265158e03a5c",
        "colab": {
          "base_uri": "https://localhost:8080/"
        }
      },
      "execution_count": 40,
      "outputs": [
        {
          "output_type": "stream",
          "name": "stdout",
          "text": [
            "Epoch 1/10\n",
            "172/172 [==============================] - 13s 54ms/step - loss: 2.6729\n",
            "Epoch 2/10\n",
            "172/172 [==============================] - 11s 53ms/step - loss: 1.9528\n",
            "Epoch 3/10\n",
            "172/172 [==============================] - 11s 52ms/step - loss: 1.6767\n",
            "Epoch 4/10\n",
            "172/172 [==============================] - 11s 54ms/step - loss: 1.5222\n",
            "Epoch 5/10\n",
            "172/172 [==============================] - 11s 54ms/step - loss: 1.4285\n",
            "Epoch 6/10\n",
            "172/172 [==============================] - 11s 54ms/step - loss: 1.3634\n",
            "Epoch 7/10\n",
            "172/172 [==============================] - 11s 55ms/step - loss: 1.3121\n",
            "Epoch 8/10\n",
            "172/172 [==============================] - 11s 55ms/step - loss: 1.2668\n",
            "Epoch 9/10\n",
            "172/172 [==============================] - 11s 55ms/step - loss: 1.2253\n",
            "Epoch 10/10\n",
            "172/172 [==============================] - 11s 55ms/step - loss: 1.1854\n"
          ]
        }
      ]
    },
    {
      "cell_type": "markdown",
      "source": [
        "### Step 6 - Generate Text"
      ],
      "metadata": {
        "id": "qIkCb1b0XqZZ"
      }
    },
    {
      "cell_type": "code",
      "source": [
        "class OneStep(tf.keras.Model):\n",
        "  def __init__(self, model, chars_from_ids, ids_from_chars, temperature=1.0):\n",
        "    super().__init__()\n",
        "    self.temperature = temperature\n",
        "    self.model = model\n",
        "    self.chars_from_ids = chars_from_ids\n",
        "    self.ids_from_chars = ids_from_chars\n",
        "\n",
        "    # Create a mask to prevent \"[UNK]\" from being generated.\n",
        "    skip_ids = self.ids_from_chars(['[UNK]'])[:, None]\n",
        "    sparse_mask = tf.SparseTensor(\n",
        "        # Put a -inf at each bad index.\n",
        "        values=[-float('inf')]*len(skip_ids),\n",
        "        indices=skip_ids,\n",
        "        # Match the shape to the vocabulary\n",
        "        dense_shape=[len(ids_from_chars.get_vocabulary())])\n",
        "    self.prediction_mask = tf.sparse.to_dense(sparse_mask)\n",
        "\n",
        "  @tf.function\n",
        "  def generate_one_step(self, inputs, states=None):\n",
        "    # Convert strings to token IDs.\n",
        "    input_chars = tf.strings.unicode_split(inputs, 'UTF-8')\n",
        "    input_ids = self.ids_from_chars(input_chars).to_tensor()\n",
        "\n",
        "    # Run the model.\n",
        "    # predicted_logits.shape is [batch, char, next_char_logits]\n",
        "    predicted_logits, states = self.model(inputs=input_ids, states=states,\n",
        "                                          return_state=True)\n",
        "    # Only use the last prediction.\n",
        "    predicted_logits = predicted_logits[:, -1, :]\n",
        "    predicted_logits = predicted_logits/self.temperature\n",
        "    # Apply the prediction mask: prevent \"[UNK]\" from being generated.\n",
        "    predicted_logits = predicted_logits + self.prediction_mask\n",
        "\n",
        "    # Sample the output logits to generate token IDs.\n",
        "    predicted_ids = tf.random.categorical(predicted_logits, num_samples=1)\n",
        "    predicted_ids = tf.squeeze(predicted_ids, axis=-1)\n",
        "\n",
        "    # Convert from token ids to characters\n",
        "    predicted_chars = self.chars_from_ids(predicted_ids)\n",
        "\n",
        "    # Return the characters and model state.\n",
        "    return predicted_chars, states"
      ],
      "metadata": {
        "id": "LYucKmiwXwaX"
      },
      "execution_count": 41,
      "outputs": []
    },
    {
      "cell_type": "code",
      "source": [
        "one_step_model = OneStep(model, chars_from_ids, ids_from_chars)"
      ],
      "metadata": {
        "id": "jkaKcZoUXziQ",
        "outputId": "d831edc9-6771-42c3-91d9-7cdd2babbb99",
        "colab": {
          "base_uri": "https://localhost:8080/",
          "height": 408
        }
      },
      "execution_count": null,
      "outputs": [
        {
          "output_type": "error",
          "ename": "TypeError",
          "evalue": "ignored",
          "traceback": [
            "\u001b[0;31m---------------------------------------------------------------------------\u001b[0m",
            "\u001b[0;31mTypeError\u001b[0m                                 Traceback (most recent call last)",
            "\u001b[0;32m<ipython-input-47-12b2e7f55e76>\u001b[0m in \u001b[0;36m<cell line: 1>\u001b[0;34m()\u001b[0m\n\u001b[0;32m----> 1\u001b[0;31m \u001b[0mone_step_model\u001b[0m \u001b[0;34m=\u001b[0m \u001b[0mOneStep\u001b[0m\u001b[0;34m(\u001b[0m\u001b[0mmodel\u001b[0m\u001b[0;34m,\u001b[0m \u001b[0mchars_from_ids\u001b[0m\u001b[0;34m,\u001b[0m \u001b[0mids_from_chars\u001b[0m\u001b[0;34m)\u001b[0m\u001b[0;34m\u001b[0m\u001b[0;34m\u001b[0m\u001b[0m\n\u001b[0m",
            "\u001b[0;32m<ipython-input-45-e61c1b5269e6>\u001b[0m in \u001b[0;36m__init__\u001b[0;34m(self, model, chars_from_ids, ids_from_chars, temperature)\u001b[0m\n\u001b[1;32m      8\u001b[0m \u001b[0;34m\u001b[0m\u001b[0m\n\u001b[1;32m      9\u001b[0m         \u001b[0;31m# Create a mask to prevent \"[UNK]\" from being generated.\u001b[0m\u001b[0;34m\u001b[0m\u001b[0;34m\u001b[0m\u001b[0m\n\u001b[0;32m---> 10\u001b[0;31m         \u001b[0munk_id\u001b[0m \u001b[0;34m=\u001b[0m \u001b[0mids_from_chars\u001b[0m\u001b[0;34m(\u001b[0m\u001b[0;34m[\u001b[0m\u001b[0;34m'[UNK]'\u001b[0m\u001b[0;34m]\u001b[0m\u001b[0;34m)\u001b[0m\u001b[0;34m[\u001b[0m\u001b[0;36m0\u001b[0m\u001b[0;34m]\u001b[0m  \u001b[0;31m# Get the ID for '[UNK]'\u001b[0m\u001b[0;34m\u001b[0m\u001b[0;34m\u001b[0m\u001b[0m\n\u001b[0m\u001b[1;32m     11\u001b[0m         \u001b[0mself\u001b[0m\u001b[0;34m.\u001b[0m\u001b[0mprediction_mask\u001b[0m \u001b[0;34m=\u001b[0m \u001b[0mtf\u001b[0m\u001b[0;34m.\u001b[0m\u001b[0mone_hot\u001b[0m\u001b[0;34m(\u001b[0m\u001b[0munk_id\u001b[0m\u001b[0;34m,\u001b[0m \u001b[0mlen\u001b[0m\u001b[0;34m(\u001b[0m\u001b[0mids_from_chars\u001b[0m\u001b[0;34m.\u001b[0m\u001b[0mget_vocabulary\u001b[0m\u001b[0;34m(\u001b[0m\u001b[0;34m)\u001b[0m\u001b[0;34m)\u001b[0m\u001b[0;34m,\u001b[0m \u001b[0;34m-\u001b[0m\u001b[0mfloat\u001b[0m\u001b[0;34m(\u001b[0m\u001b[0;34m'inf'\u001b[0m\u001b[0;34m)\u001b[0m\u001b[0;34m)\u001b[0m\u001b[0;34m\u001b[0m\u001b[0;34m\u001b[0m\u001b[0m\n\u001b[1;32m     12\u001b[0m \u001b[0;34m\u001b[0m\u001b[0m\n",
            "\u001b[0;32m/usr/local/lib/python3.10/dist-packages/keras/src/utils/traceback_utils.py\u001b[0m in \u001b[0;36merror_handler\u001b[0;34m(*args, **kwargs)\u001b[0m\n\u001b[1;32m     68\u001b[0m             \u001b[0;31m# To get the full stack trace, call:\u001b[0m\u001b[0;34m\u001b[0m\u001b[0;34m\u001b[0m\u001b[0m\n\u001b[1;32m     69\u001b[0m             \u001b[0;31m# `tf.debugging.disable_traceback_filtering()`\u001b[0m\u001b[0;34m\u001b[0m\u001b[0;34m\u001b[0m\u001b[0m\n\u001b[0;32m---> 70\u001b[0;31m             \u001b[0;32mraise\u001b[0m \u001b[0me\u001b[0m\u001b[0;34m.\u001b[0m\u001b[0mwith_traceback\u001b[0m\u001b[0;34m(\u001b[0m\u001b[0mfiltered_tb\u001b[0m\u001b[0;34m)\u001b[0m \u001b[0;32mfrom\u001b[0m \u001b[0;32mNone\u001b[0m\u001b[0;34m\u001b[0m\u001b[0;34m\u001b[0m\u001b[0m\n\u001b[0m\u001b[1;32m     71\u001b[0m         \u001b[0;32mfinally\u001b[0m\u001b[0;34m:\u001b[0m\u001b[0;34m\u001b[0m\u001b[0;34m\u001b[0m\u001b[0m\n\u001b[1;32m     72\u001b[0m             \u001b[0;32mdel\u001b[0m \u001b[0mfiltered_tb\u001b[0m\u001b[0;34m\u001b[0m\u001b[0;34m\u001b[0m\u001b[0m\n",
            "\u001b[0;32m/usr/local/lib/python3.10/dist-packages/tensorflow/python/framework/constant_op.py\u001b[0m in \u001b[0;36mconvert_to_eager_tensor\u001b[0;34m(value, ctx, dtype)\u001b[0m\n\u001b[1;32m    100\u001b[0m       \u001b[0mdtype\u001b[0m \u001b[0;34m=\u001b[0m \u001b[0mdtypes\u001b[0m\u001b[0;34m.\u001b[0m\u001b[0mas_dtype\u001b[0m\u001b[0;34m(\u001b[0m\u001b[0mdtype\u001b[0m\u001b[0;34m)\u001b[0m\u001b[0;34m.\u001b[0m\u001b[0mas_datatype_enum\u001b[0m\u001b[0;34m\u001b[0m\u001b[0;34m\u001b[0m\u001b[0m\n\u001b[1;32m    101\u001b[0m   \u001b[0mctx\u001b[0m\u001b[0;34m.\u001b[0m\u001b[0mensure_initialized\u001b[0m\u001b[0;34m(\u001b[0m\u001b[0;34m)\u001b[0m\u001b[0;34m\u001b[0m\u001b[0;34m\u001b[0m\u001b[0m\n\u001b[0;32m--> 102\u001b[0;31m   \u001b[0;32mreturn\u001b[0m \u001b[0mops\u001b[0m\u001b[0;34m.\u001b[0m\u001b[0mEagerTensor\u001b[0m\u001b[0;34m(\u001b[0m\u001b[0mvalue\u001b[0m\u001b[0;34m,\u001b[0m \u001b[0mctx\u001b[0m\u001b[0;34m.\u001b[0m\u001b[0mdevice_name\u001b[0m\u001b[0;34m,\u001b[0m \u001b[0mdtype\u001b[0m\u001b[0;34m)\u001b[0m\u001b[0;34m\u001b[0m\u001b[0;34m\u001b[0m\u001b[0m\n\u001b[0m\u001b[1;32m    103\u001b[0m \u001b[0;34m\u001b[0m\u001b[0m\n\u001b[1;32m    104\u001b[0m \u001b[0;34m\u001b[0m\u001b[0m\n",
            "\u001b[0;31mTypeError\u001b[0m: Exception encountered when calling layer 'string_lookup_2' (type StringLookup).\n\nCannot convert ['[UNK]'] to EagerTensor of dtype int64\n\nCall arguments received by layer 'string_lookup_2' (type StringLookup):\n  • inputs=[\"'[UNK]'\"]"
          ]
        }
      ]
    },
    {
      "cell_type": "markdown",
      "source": [
        "Run it repeatedly to generate some text. Looking at the text generated, you will see that the model knows when to use capital letters, create paragraphs, and mimic Shakespearean writing style. Due to the limited number of training epochs, the model hasn't learned to form coherent sentences."
      ],
      "metadata": {
        "id": "EXI9dklNX5bn"
      }
    },
    {
      "cell_type": "code",
      "source": [
        "start = time.time()\n",
        "states = None\n",
        "next_char = tf.constant(['ROMEO:'])\n",
        "result = [next_char]\n",
        "\n",
        "for n in range(1000):\n",
        "  next_char, states = one_step_model.generate_one_step(next_char, states=states)\n",
        "  result.append(next_char)\n",
        "\n",
        "result = tf.strings.join(result)\n",
        "end = time.time()\n",
        "print(result[0].numpy().decode('utf-8'), '\\n\\n' + '_'*80)\n",
        "print('\\nRun time:', end - start)"
      ],
      "metadata": {
        "id": "udl-7aDZX7Pw"
      },
      "execution_count": null,
      "outputs": []
    },
    {
      "cell_type": "code",
      "source": [
        "start = time.time()\n",
        "states = None\n",
        "next_char = tf.constant(['ROMEO:', 'ROMEO:', 'ROMEO:', 'ROMEO:', 'ROMEO:'])\n",
        "result = [next_char]\n",
        "\n",
        "for n in range(1000):\n",
        "  next_char, states = one_step_model.generate_one_step(next_char, states=states)\n",
        "  result.append(next_char)\n",
        "\n",
        "result = tf.strings.join(result)\n",
        "end = time.time()\n",
        "print(result, '\\n\\n' + '_'*80)\n",
        "print('\\nRun time:', end - start)"
      ],
      "metadata": {
        "id": "f46jSAPyX85_"
      },
      "execution_count": null,
      "outputs": []
    },
    {
      "cell_type": "markdown",
      "source": [
        "**Export the Generator Model**"
      ],
      "metadata": {
        "id": "8Mk-MgCDX_Cq"
      }
    },
    {
      "cell_type": "code",
      "source": [
        "tf.saved_model.save(one_step_model, 'one_step')\n",
        "one_step_reloaded = tf.saved_model.load('one_step')"
      ],
      "metadata": {
        "id": "-HhvuK4BYBxA"
      },
      "execution_count": null,
      "outputs": []
    },
    {
      "cell_type": "code",
      "source": [
        "states = None\n",
        "next_char = tf.constant(['ROMEO:'])\n",
        "result = [next_char]\n",
        "\n",
        "for n in range(100):\n",
        "  next_char, states = one_step_reloaded.generate_one_step(next_char, states=states)\n",
        "  result.append(next_char)\n",
        "\n",
        "print(tf.strings.join(result)[0].numpy().decode(\"utf-8\"))"
      ],
      "metadata": {
        "id": "cuveWa0yYC6I"
      },
      "execution_count": null,
      "outputs": []
    },
    {
      "cell_type": "markdown",
      "source": [
        "# Lab Assignment\n",
        "The training procedure in practical 2 is a simple procedure that does not give you much control. This model uses 'teacher-forcing,' which prevents bad predictions from being fed back into the model, so the model never learns to recover from mistakes. So, after you've seen how to run the model manually, you'll implement a custom training loop. This provides a starting point if, for example, you want to implement curriculum learning to help stabilize the open-loop model's output. The most crucial part of the custom training loop is the training step function.\n",
        "Use tf.GradientTape to track gradient values. You can learn more about this approach by reading the eager execution guide."
      ],
      "metadata": {
        "id": "tO-9bZEXp-up"
      }
    },
    {
      "cell_type": "markdown",
      "source": [
        "The procedure is:\n",
        "1. Run the model and compute the loss using tf.GradientTape.\n",
        "2. Calculate the updates and apply them to the model with the optimizer."
      ],
      "metadata": {
        "id": "NtuR74O1qMRq"
      }
    },
    {
      "cell_type": "code",
      "execution_count": 42,
      "metadata": {
        "id": "4bSvzpjSgdHb"
      },
      "outputs": [],
      "source": [
        "class CustomTraining(MyModel):\n",
        "  @tf.function\n",
        "  def train_step(self, inputs):\n",
        "      inputs, labels = inputs\n",
        "      with tf.GradientTape() as tape:\n",
        "          predictions = self(inputs, training=True)\n",
        "          loss = self.loss(labels, predictions)\n",
        "      grads = tape.gradient(loss, model.trainable_variables)\n",
        "      self.optimizer.apply_gradients(zip(grads, model.trainable_variables))\n",
        "\n",
        "      return {'loss': loss}"
      ]
    },
    {
      "cell_type": "markdown",
      "source": [
        "The above code implements the train_step method according to Keras' train_step conventions. This is optional but allows you to modify the training step's behavior while still using Keras Model.compile and Model.fit methods."
      ],
      "metadata": {
        "id": "oFxbBpgKid28"
      }
    },
    {
      "cell_type": "code",
      "source": [
        "model = CustomTraining(\n",
        "    vocab_size=len(ids_from_chars.get_vocabulary()),\n",
        "    embedding_dim=embedding_dim,\n",
        "    rnn_units=rnn_units)"
      ],
      "metadata": {
        "id": "JSotZevZiev7"
      },
      "execution_count": 43,
      "outputs": []
    },
    {
      "cell_type": "code",
      "source": [
        "model.compile(optimizer = tf.keras.optimizers.Adam(),\n",
        "              loss=tf.keras.losses.SparseCategoricalCrossentropy(from_logits=True))"
      ],
      "metadata": {
        "id": "yUt-1GpTjC6y"
      },
      "execution_count": 44,
      "outputs": []
    },
    {
      "cell_type": "code",
      "source": [
        "model.fit(dataset, epochs=1)"
      ],
      "metadata": {
        "id": "vkHkHCkCjMnD",
        "outputId": "a8c66916-d245-436e-ba3f-b8b63199807f",
        "colab": {
          "base_uri": "https://localhost:8080/"
        }
      },
      "execution_count": 45,
      "outputs": [
        {
          "output_type": "stream",
          "name": "stdout",
          "text": [
            "172/172 [==============================] - 15s 61ms/step - loss: 2.7274\n"
          ]
        },
        {
          "output_type": "execute_result",
          "data": {
            "text/plain": [
              "<keras.src.callbacks.History at 0x78b54e7ccfa0>"
            ]
          },
          "metadata": {},
          "execution_count": 45
        }
      ]
    },
    {
      "cell_type": "markdown",
      "source": [
        "Or, if you want to have a deeper understanding, you can create your own custom training loop:"
      ],
      "metadata": {
        "id": "dvC6z-jfjYC5"
      }
    },
    {
      "cell_type": "code",
      "source": [
        "EPOCHS = 10\n",
        "\n",
        "mean = tf.metrics.Mean()\n",
        "\n",
        "for epoch in range(EPOCHS):\n",
        "    start = time.time()\n",
        "\n",
        "    mean.reset_states()\n",
        "    for (batch_n, (inp, target)) in enumerate(dataset):\n",
        "        logs = model.train_step([inp, target])\n",
        "        mean.update_state(logs['loss'])\n",
        "\n",
        "        if batch_n % 50 == 0:\n",
        "            template = f\"Epoch {epoch+1} Batch {batch_n} Loss {logs['loss']:.4f}\"\n",
        "            print(template)\n",
        "\n",
        "    # saving (checkpoint) the model every 5 epochs\n",
        "    if (epoch + 1) % 5 == 0:\n",
        "        model.save_weights(checkpoint_prefix.format(epoch=epoch))\n",
        "\n",
        "    print()\n",
        "    print(f'Epoch {epoch+1} Loss: {mean.result().numpy():.4f}')\n",
        "    print(f'Time taken for 1 epoch {time.time() - start:.2f} sec')\n",
        "    print(\"_\"*80)\n",
        "\n",
        "model.save_weights(checkpoint_prefix.format(epoch=epoch))"
      ],
      "metadata": {
        "id": "fWkuNmkLjgFJ",
        "outputId": "5f5b6e9b-0387-4d8d-a3ee-49df7ae3221f",
        "colab": {
          "base_uri": "https://localhost:8080/"
        }
      },
      "execution_count": 46,
      "outputs": [
        {
          "output_type": "stream",
          "name": "stdout",
          "text": [
            "Epoch 1 Batch 0 Loss 2.1851\n",
            "Epoch 1 Batch 50 Loss 2.0734\n",
            "Epoch 1 Batch 100 Loss 1.9433\n",
            "Epoch 1 Batch 150 Loss 1.8659\n",
            "\n",
            "Epoch 1 Loss: 1.9908\n",
            "Time taken for 1 epoch 13.47 sec\n",
            "________________________________________________________________________________\n",
            "Epoch 2 Batch 0 Loss 1.8005\n",
            "Epoch 2 Batch 50 Loss 1.7276\n",
            "Epoch 2 Batch 100 Loss 1.6644\n",
            "Epoch 2 Batch 150 Loss 1.6569\n",
            "\n",
            "Epoch 2 Loss: 1.7142\n",
            "Time taken for 1 epoch 11.69 sec\n",
            "________________________________________________________________________________\n",
            "Epoch 3 Batch 0 Loss 1.6138\n",
            "Epoch 3 Batch 50 Loss 1.5444\n",
            "Epoch 3 Batch 100 Loss 1.5288\n",
            "Epoch 3 Batch 150 Loss 1.5048\n",
            "\n",
            "Epoch 3 Loss: 1.5534\n",
            "Time taken for 1 epoch 12.02 sec\n",
            "________________________________________________________________________________\n",
            "Epoch 4 Batch 0 Loss 1.4388\n",
            "Epoch 4 Batch 50 Loss 1.4828\n",
            "Epoch 4 Batch 100 Loss 1.4281\n",
            "Epoch 4 Batch 150 Loss 1.4200\n",
            "\n",
            "Epoch 4 Loss: 1.4556\n",
            "Time taken for 1 epoch 12.05 sec\n",
            "________________________________________________________________________________\n",
            "Epoch 5 Batch 0 Loss 1.3700\n",
            "Epoch 5 Batch 50 Loss 1.3622\n",
            "Epoch 5 Batch 100 Loss 1.3589\n",
            "Epoch 5 Batch 150 Loss 1.3759\n",
            "\n",
            "Epoch 5 Loss: 1.3882\n",
            "Time taken for 1 epoch 12.19 sec\n",
            "________________________________________________________________________________\n",
            "Epoch 6 Batch 0 Loss 1.3211\n",
            "Epoch 6 Batch 50 Loss 1.3421\n",
            "Epoch 6 Batch 100 Loss 1.3479\n",
            "Epoch 6 Batch 150 Loss 1.3004\n",
            "\n",
            "Epoch 6 Loss: 1.3357\n",
            "Time taken for 1 epoch 13.34 sec\n",
            "________________________________________________________________________________\n",
            "Epoch 7 Batch 0 Loss 1.2716\n",
            "Epoch 7 Batch 50 Loss 1.2796\n",
            "Epoch 7 Batch 100 Loss 1.3044\n",
            "Epoch 7 Batch 150 Loss 1.3422\n",
            "\n",
            "Epoch 7 Loss: 1.2910\n",
            "Time taken for 1 epoch 12.42 sec\n",
            "________________________________________________________________________________\n",
            "Epoch 8 Batch 0 Loss 1.2166\n",
            "Epoch 8 Batch 50 Loss 1.2463\n",
            "Epoch 8 Batch 100 Loss 1.2644\n",
            "Epoch 8 Batch 150 Loss 1.2602\n",
            "\n",
            "Epoch 8 Loss: 1.2497\n",
            "Time taken for 1 epoch 12.50 sec\n",
            "________________________________________________________________________________\n",
            "Epoch 9 Batch 0 Loss 1.1974\n",
            "Epoch 9 Batch 50 Loss 1.2099\n",
            "Epoch 9 Batch 100 Loss 1.2251\n",
            "Epoch 9 Batch 150 Loss 1.2242\n",
            "\n",
            "Epoch 9 Loss: 1.2112\n",
            "Time taken for 1 epoch 12.36 sec\n",
            "________________________________________________________________________________\n",
            "Epoch 10 Batch 0 Loss 1.1279\n",
            "Epoch 10 Batch 50 Loss 1.1643\n",
            "Epoch 10 Batch 100 Loss 1.1828\n",
            "Epoch 10 Batch 150 Loss 1.1923\n",
            "\n",
            "Epoch 10 Loss: 1.1716\n",
            "Time taken for 1 epoch 12.41 sec\n",
            "________________________________________________________________________________\n"
          ]
        }
      ]
    },
    {
      "cell_type": "markdown",
      "source": [
        "Jalankan kode diatas dan sebutkan perbedaanya dengan praktikum 2?"
      ],
      "metadata": {
        "id": "z4wNrR2BjoQC"
      }
    }
  ]
}