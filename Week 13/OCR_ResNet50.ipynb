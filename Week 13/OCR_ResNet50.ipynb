{
  "nbformat": 4,
  "nbformat_minor": 0,
  "metadata": {
    "colab": {
      "provenance": [],
      "machine_shape": "hm",
      "gpuType": "A100",
      "include_colab_link": true
    },
    "kernelspec": {
      "name": "python3",
      "display_name": "Python 3"
    },
    "language_info": {
      "name": "python"
    },
    "accelerator": "GPU"
  },
  "cells": [
    {
      "cell_type": "markdown",
      "metadata": {
        "id": "view-in-github",
        "colab_type": "text"
      },
      "source": [
        "<a href=\"https://colab.research.google.com/github/kristokeith/MachLearn_Ganjil_2023/blob/main/Week%2013/OCR_ResNet50.ipynb\" target=\"_parent\"><img src=\"https://colab.research.google.com/assets/colab-badge.svg\" alt=\"Open In Colab\"/></a>"
      ]
    },
    {
      "cell_type": "markdown",
      "source": [
        "# Common Prep"
      ],
      "metadata": {
        "id": "NKhAh2daa8q3"
      }
    },
    {
      "cell_type": "code",
      "execution_count": null,
      "metadata": {
        "id": "A4WewEnRY0RY"
      },
      "outputs": [],
      "source": [
        "# Import Library\n",
        "import tensorflow as tf\n",
        "import numpy as np\n",
        "import pandas as pd\n",
        "import matplotlib.pyplot as plt\n",
        "import seaborn as sns\n",
        "from sklearn.preprocessing import LabelBinarizer\n",
        "from sklearn.model_selection import train_test_split\n",
        "from sklearn.metrics import classification_report\n",
        "import zipfile"
      ]
    },
    {
      "cell_type": "code",
      "source": [
        "# Load MNIST\n",
        "from tensorflow.keras.datasets import mnist\n",
        "\n",
        "(train_data, train_labels), (test_data, test_labels) = mnist.load_data()\n",
        "\n",
        "# Combine train + test\n",
        "digits_data = np.vstack([train_data, test_data])\n",
        "digits_labels = np.hstack([train_labels, test_labels])"
      ],
      "metadata": {
        "colab": {
          "base_uri": "https://localhost:8080/"
        },
        "id": "2PK1ylxwZIGA",
        "outputId": "4b748dc5-3608-44ad-acca-cb53d8675267"
      },
      "execution_count": null,
      "outputs": [
        {
          "output_type": "stream",
          "name": "stdout",
          "text": [
            "Downloading data from https://storage.googleapis.com/tensorflow/tf-keras-datasets/mnist.npz\n",
            "11490434/11490434 [==============================] - 2s 0us/step\n"
          ]
        }
      ]
    },
    {
      "cell_type": "code",
      "source": [
        "# Load Kaggle A-Z\n",
        "!wget https://iaexpert.academy/arquivos/alfabeto_A-Z.zip\n",
        "\n",
        "# Extract zip file\n",
        "zip_object = zipfile.ZipFile(file = 'alfabeto_A-Z.zip', mode = 'r')\n",
        "zip_object.extractall('./')\n",
        "zip_object.close()\n",
        "\n",
        "# Read data as df\n",
        "dataset_az = pd.read_csv('A_Z Handwritten Data.csv').astype('float32')\n",
        "\n",
        "# Get pixel data only\n",
        "alphabet_data = dataset_az.drop('0', axis=1)\n",
        "# Get labels only\n",
        "alphabet_labels = dataset_az['0']\n",
        "\n",
        "# Reshape pixel data to 28*28\n",
        "alphabet_data = np.reshape(alphabet_data.values, (alphabet_data.shape[0], 28, 28))"
      ],
      "metadata": {
        "colab": {
          "base_uri": "https://localhost:8080/"
        },
        "id": "Fo7b7n8pZWtu",
        "outputId": "84cb9788-97ba-4d61-b1d4-c79eb5e0256b"
      },
      "execution_count": null,
      "outputs": [
        {
          "output_type": "stream",
          "name": "stdout",
          "text": [
            "--2023-11-20 03:20:56--  https://iaexpert.academy/arquivos/alfabeto_A-Z.zip\n",
            "Resolving iaexpert.academy (iaexpert.academy)... 162.159.134.42\n",
            "Connecting to iaexpert.academy (iaexpert.academy)|162.159.134.42|:443... connected.\n",
            "HTTP request sent, awaiting response... 200 OK\n",
            "Length: 193643888 (185M) [application/zip]\n",
            "Saving to: ‘alfabeto_A-Z.zip’\n",
            "\n",
            "alfabeto_A-Z.zip    100%[===================>] 184.67M   120MB/s    in 1.5s    \n",
            "\n",
            "2023-11-20 03:20:58 (120 MB/s) - ‘alfabeto_A-Z.zip’ saved [193643888/193643888]\n",
            "\n"
          ]
        }
      ]
    },
    {
      "cell_type": "code",
      "source": [
        "# Combine MNIST + Kaggle A-Z\n",
        "\n",
        "alphabet_labels += 10\n",
        "\n",
        "# Combine both of them\n",
        "data = np.vstack([alphabet_data, digits_data])\n",
        "labels = np.hstack([alphabet_labels, digits_labels])"
      ],
      "metadata": {
        "id": "JPP2PDE4ZxWK"
      },
      "execution_count": null,
      "outputs": []
    },
    {
      "cell_type": "code",
      "source": [
        "# Convert data to float32\n",
        "data = np.array(data, dtype = 'float32')"
      ],
      "metadata": {
        "id": "pUBTv49YZ_vP"
      },
      "execution_count": null,
      "outputs": []
    },
    {
      "cell_type": "code",
      "source": [
        "# Since Convolutional need 3d data (including depth)\n",
        "# and our images only in 2d data (because in grayscale format)\n",
        "# we need to add \"the depth\" to the data\n",
        "data = np.expand_dims(data, axis=-1)\n",
        "\n",
        "# check shape\n",
        "data.shape"
      ],
      "metadata": {
        "colab": {
          "base_uri": "https://localhost:8080/"
        },
        "id": "UJFqvZz8aEd-",
        "outputId": "381b72f5-e266-41e3-b35a-6dc7adf6881a"
      },
      "execution_count": null,
      "outputs": [
        {
          "output_type": "execute_result",
          "data": {
            "text/plain": [
              "(442450, 28, 28, 1)"
            ]
          },
          "metadata": {},
          "execution_count": 6
        }
      ]
    },
    {
      "cell_type": "code",
      "source": [
        "# Preprocess\n",
        "\n",
        "# Normalize data\n",
        "data /= 255.0\n",
        "\n",
        "# Enconde the labels\n",
        "# LabelBinarizer similar with OneHotEncoder\n",
        "le = LabelBinarizer()\n",
        "labels = le.fit_transform(labels)\n",
        "\n",
        "# Create weight for label\n",
        "# Check number of data for each labels first\n",
        "classes_total = labels.sum(axis = 0)\n",
        "\n",
        "# Create a weight for each data\n",
        "classes_weights = {}\n",
        "for i in range(0, len(classes_total)):\n",
        "  #print(i)\n",
        "  classes_weights[i] = classes_total.max() / classes_total[i]\n",
        "\n",
        "# Check the weight for each data\n",
        "classes_weights"
      ],
      "metadata": {
        "colab": {
          "base_uri": "https://localhost:8080/"
        },
        "id": "ukDBSV-jaGsu",
        "outputId": "849cfef6-8709-4212-fa97-f9729896e773"
      },
      "execution_count": null,
      "outputs": [
        {
          "output_type": "execute_result",
          "data": {
            "text/plain": [
              "{0: 8.376792698826597,\n",
              " 1: 7.340992763742541,\n",
              " 2: 8.272532188841202,\n",
              " 3: 8.097605377398123,\n",
              " 4: 8.473769050410317,\n",
              " 5: 9.15967052114684,\n",
              " 6: 8.409685863874346,\n",
              " 7: 7.928835870012341,\n",
              " 8: 8.472527472527473,\n",
              " 9: 8.310577752227651,\n",
              " 10: 4.169370538611291,\n",
              " 11: 6.671089063221043,\n",
              " 12: 2.4702037677816224,\n",
              " 13: 5.7060390763765545,\n",
              " 14: 5.0546328671328675,\n",
              " 15: 49.72055030094583,\n",
              " 16: 10.035577924331829,\n",
              " 17: 8.011221945137157,\n",
              " 18: 51.629464285714285,\n",
              " 19: 6.808548216178029,\n",
              " 20: 10.320364090665715,\n",
              " 21: 4.990937338166753,\n",
              " 22: 4.6875,\n",
              " 23: 3.0418200946870066,\n",
              " 24: 1.0,\n",
              " 25: 2.989762680316426,\n",
              " 26: 9.94924294562973,\n",
              " 27: 4.999567698426422,\n",
              " 28: 1.1942625828703608,\n",
              " 29: 2.5705712380529007,\n",
              " 30: 1.993415609487038,\n",
              " 31: 13.827116212338593,\n",
              " 32: 5.362110534124629,\n",
              " 33: 9.21954719387755,\n",
              " 34: 5.3250759738465785,\n",
              " 35: 9.51695194206715}"
            ]
          },
          "metadata": {},
          "execution_count": 7
        }
      ]
    },
    {
      "cell_type": "code",
      "source": [
        "# Split Data\n",
        "X_train, X_test, y_train, y_test = train_test_split(data, labels, test_size = 0.2, random_state = 1, stratify = labels)"
      ],
      "metadata": {
        "id": "iePBFp8CacJ6"
      },
      "execution_count": null,
      "outputs": []
    },
    {
      "cell_type": "code",
      "source": [
        "# Augmentation Using ImageDataGenerator --> Deprecated asap\n",
        "from tensorflow.keras.preprocessing.image import ImageDataGenerator\n",
        "augmentation = ImageDataGenerator(rotation_range = 10, zoom_range=0.05, width_shift_range=0.1,\n",
        "                                  height_shift_range=0.1, horizontal_flip = False)"
      ],
      "metadata": {
        "id": "WQtUQde9ag-_"
      },
      "execution_count": null,
      "outputs": []
    },
    {
      "cell_type": "markdown",
      "source": [
        "# Build ResNet50"
      ],
      "metadata": {
        "id": "CCQRAZJIa7oR"
      }
    },
    {
      "cell_type": "code",
      "source": [
        "# Import necessary library\n",
        "from tensorflow.keras.layers import Input, Conv2D, MaxPooling2D, ZeroPadding2D,\\\n",
        "     Flatten, BatchNormalization, AveragePooling2D, Dense, Activation, Add\n",
        "from tensorflow.keras.models import Model\n",
        "from tensorflow.keras import activations\n",
        "from tensorflow.keras.optimizers import Adam\n",
        "from tensorflow.keras.callbacks import EarlyStopping\n",
        "from tensorflow.keras.regularizers import l2"
      ],
      "metadata": {
        "id": "fft2hfhaawKt"
      },
      "execution_count": null,
      "outputs": []
    },
    {
      "cell_type": "code",
      "source": [
        "def res_identity(x, filters):\n",
        "  ''' renet block where dimension doesnot change.\n",
        "  The skip connection is just simple identity conncection\n",
        "  we will have 3 blocks and then input will be added\n",
        "  '''\n",
        "  x_skip = x # this will be used for addition with the residual block\n",
        "  f1, f2 = filters\n",
        "\n",
        "  #first block\n",
        "  x = Conv2D(f1, kernel_size=(1, 1), strides=(1, 1), padding='valid', kernel_regularizer=l2(0.001))(x)\n",
        "  x = BatchNormalization()(x)\n",
        "  x = Activation(activations.relu)(x)\n",
        "\n",
        "  #second block # bottleneck (but size kept same with padding)\n",
        "  x = Conv2D(f1, kernel_size=(3, 3), strides=(1, 1), padding='same', kernel_regularizer=l2(0.001))(x)\n",
        "  x = BatchNormalization()(x)\n",
        "  x = Activation(activations.relu)(x)\n",
        "\n",
        "  # third block activation used after adding the input\n",
        "  x = Conv2D(f2, kernel_size=(1, 1), strides=(1, 1), padding='valid', kernel_regularizer=l2(0.001))(x)\n",
        "  x = BatchNormalization()(x)\n",
        "  # x = Activation(activations.relu)(x)\n",
        "\n",
        "  # add the input\n",
        "  x = Add()([x, x_skip])\n",
        "  x = Activation(activations.relu)(x)\n",
        "\n",
        "  return x"
      ],
      "metadata": {
        "id": "SrdrOs5XbPLC"
      },
      "execution_count": null,
      "outputs": []
    },
    {
      "cell_type": "code",
      "source": [
        "def res_conv(x, s, filters):\n",
        "  '''\n",
        "  here the input size changes, when it goes via conv blocks\n",
        "  so the skip connection uses a projection (conv layer) matrix\n",
        "  '''\n",
        "  x_skip = x\n",
        "  f1, f2 = filters\n",
        "\n",
        "  # first block\n",
        "  x = Conv2D(f1, kernel_size=(1, 1), strides=(s, s), padding='valid', kernel_regularizer=l2(0.001))(x)\n",
        "  # when s = 2 then it is like downsizing the feature map\n",
        "  x = BatchNormalization()(x)\n",
        "  x = Activation(activations.relu)(x)\n",
        "\n",
        "  # second block\n",
        "  x = Conv2D(f1, kernel_size=(3, 3), strides=(1, 1), padding='same', kernel_regularizer=l2(0.001))(x)\n",
        "  x = BatchNormalization()(x)\n",
        "  x = Activation(activations.relu)(x)\n",
        "\n",
        "  #third block\n",
        "  x = Conv2D(f2, kernel_size=(1, 1), strides=(1, 1), padding='valid', kernel_regularizer=l2(0.001))(x)\n",
        "  x = BatchNormalization()(x)\n",
        "\n",
        "  # shortcut\n",
        "  x_skip = Conv2D(f2, kernel_size=(1, 1), strides=(s, s), padding='valid', kernel_regularizer=l2(0.001))(x_skip)\n",
        "  x_skip = BatchNormalization()(x_skip)\n",
        "\n",
        "  # add\n",
        "  x = Add()([x, x_skip])\n",
        "  x = Activation(activations.relu)(x)\n",
        "\n",
        "  return x"
      ],
      "metadata": {
        "id": "4_dsbCoBbVYh"
      },
      "execution_count": null,
      "outputs": []
    },
    {
      "cell_type": "code",
      "source": [
        "### Combine the above functions to build 50 layers resnet.\n",
        "def resnet50():\n",
        "\n",
        "  input_im = Input(shape=(28,28,1))\n",
        "  x = ZeroPadding2D(padding=(3, 3))(input_im)\n",
        "\n",
        "  # 1st stage\n",
        "  # here we perform maxpooling, see the figure above\n",
        "\n",
        "  x = Conv2D(64, kernel_size=(7, 7), strides=(2, 2))(x)\n",
        "  x = BatchNormalization()(x)\n",
        "  x = Activation(activations.relu)(x)\n",
        "  x = MaxPooling2D((3, 3), strides=(2, 2))(x)\n",
        "\n",
        "  #2nd stage\n",
        "  # frm here on only conv block and identity block, no pooling\n",
        "\n",
        "  x = res_conv(x, s=1, filters=(64, 256))\n",
        "  x = res_identity(x, filters=(64, 256))\n",
        "  x = res_identity(x, filters=(64, 256))\n",
        "\n",
        "  # 3rd stage\n",
        "\n",
        "  x = res_conv(x, s=2, filters=(128, 512))\n",
        "  x = res_identity(x, filters=(128, 512))\n",
        "  x = res_identity(x, filters=(128, 512))\n",
        "  x = res_identity(x, filters=(128, 512))\n",
        "\n",
        "  # 4th stage\n",
        "\n",
        "  x = res_conv(x, s=2, filters=(256, 1024))\n",
        "  x = res_identity(x, filters=(256, 1024))\n",
        "  x = res_identity(x, filters=(256, 1024))\n",
        "  x = res_identity(x, filters=(256, 1024))\n",
        "  x = res_identity(x, filters=(256, 1024))\n",
        "  x = res_identity(x, filters=(256, 1024))\n",
        "\n",
        "  # 5th stage\n",
        "\n",
        "  x = res_conv(x, s=2, filters=(512, 2048))\n",
        "  x = res_identity(x, filters=(512, 2048))\n",
        "  x = res_identity(x, filters=(512, 2048))\n",
        "\n",
        "  # ends with average pooling and dense connection\n",
        "\n",
        "  x = AveragePooling2D((2, 2), padding='same')(x)\n",
        "\n",
        "  x = Flatten()(x)\n",
        "  x = Dense(64, activation='relu')(x)\n",
        "  x = Dense(128, activation='relu')(x)\n",
        "  x = Dense(36, activation='softmax', kernel_initializer='he_normal')(x) #multi-class\n",
        "\n",
        "  # define the model\n",
        "\n",
        "  model = Model(inputs=input_im, outputs=x, name='Resnet50')\n",
        "\n",
        "  return model"
      ],
      "metadata": {
        "id": "wiMq0QWlbZfY"
      },
      "execution_count": null,
      "outputs": []
    },
    {
      "cell_type": "code",
      "source": [
        "resnet50_model = resnet50()"
      ],
      "metadata": {
        "id": "qZxGtVNPcMQ5"
      },
      "execution_count": null,
      "outputs": []
    },
    {
      "cell_type": "code",
      "source": [
        "# Check summary\n",
        "resnet50_model.summary()"
      ],
      "metadata": {
        "colab": {
          "base_uri": "https://localhost:8080/"
        },
        "id": "solcnAUzcRAZ",
        "outputId": "0ccc2dfb-c105-4929-9142-24b790bd28ce"
      },
      "execution_count": null,
      "outputs": [
        {
          "output_type": "stream",
          "name": "stdout",
          "text": [
            "Model: \"Resnet50\"\n",
            "__________________________________________________________________________________________________\n",
            " Layer (type)                Output Shape                 Param #   Connected to                  \n",
            "==================================================================================================\n",
            " input_2 (InputLayer)        [(None, 28, 28, 1)]          0         []                            \n",
            "                                                                                                  \n",
            " zero_padding2d_1 (ZeroPadd  (None, 34, 34, 1)            0         ['input_2[0][0]']             \n",
            " ing2D)                                                                                           \n",
            "                                                                                                  \n",
            " conv2d_53 (Conv2D)          (None, 14, 14, 64)           3200      ['zero_padding2d_1[0][0]']    \n",
            "                                                                                                  \n",
            " batch_normalization_53 (Ba  (None, 14, 14, 64)           256       ['conv2d_53[0][0]']           \n",
            " tchNormalization)                                                                                \n",
            "                                                                                                  \n",
            " activation_49 (Activation)  (None, 14, 14, 64)           0         ['batch_normalization_53[0][0]\n",
            "                                                                    ']                            \n",
            "                                                                                                  \n",
            " max_pooling2d_1 (MaxPoolin  (None, 6, 6, 64)             0         ['activation_49[0][0]']       \n",
            " g2D)                                                                                             \n",
            "                                                                                                  \n",
            " conv2d_54 (Conv2D)          (None, 6, 6, 64)             4160      ['max_pooling2d_1[0][0]']     \n",
            "                                                                                                  \n",
            " batch_normalization_54 (Ba  (None, 6, 6, 64)             256       ['conv2d_54[0][0]']           \n",
            " tchNormalization)                                                                                \n",
            "                                                                                                  \n",
            " activation_50 (Activation)  (None, 6, 6, 64)             0         ['batch_normalization_54[0][0]\n",
            "                                                                    ']                            \n",
            "                                                                                                  \n",
            " conv2d_55 (Conv2D)          (None, 6, 6, 64)             36928     ['activation_50[0][0]']       \n",
            "                                                                                                  \n",
            " batch_normalization_55 (Ba  (None, 6, 6, 64)             256       ['conv2d_55[0][0]']           \n",
            " tchNormalization)                                                                                \n",
            "                                                                                                  \n",
            " activation_51 (Activation)  (None, 6, 6, 64)             0         ['batch_normalization_55[0][0]\n",
            "                                                                    ']                            \n",
            "                                                                                                  \n",
            " conv2d_56 (Conv2D)          (None, 6, 6, 256)            16640     ['activation_51[0][0]']       \n",
            "                                                                                                  \n",
            " conv2d_57 (Conv2D)          (None, 6, 6, 256)            16640     ['max_pooling2d_1[0][0]']     \n",
            "                                                                                                  \n",
            " batch_normalization_56 (Ba  (None, 6, 6, 256)            1024      ['conv2d_56[0][0]']           \n",
            " tchNormalization)                                                                                \n",
            "                                                                                                  \n",
            " batch_normalization_57 (Ba  (None, 6, 6, 256)            1024      ['conv2d_57[0][0]']           \n",
            " tchNormalization)                                                                                \n",
            "                                                                                                  \n",
            " add_16 (Add)                (None, 6, 6, 256)            0         ['batch_normalization_56[0][0]\n",
            "                                                                    ',                            \n",
            "                                                                     'batch_normalization_57[0][0]\n",
            "                                                                    ']                            \n",
            "                                                                                                  \n",
            " activation_52 (Activation)  (None, 6, 6, 256)            0         ['add_16[0][0]']              \n",
            "                                                                                                  \n",
            " conv2d_58 (Conv2D)          (None, 6, 6, 64)             16448     ['activation_52[0][0]']       \n",
            "                                                                                                  \n",
            " batch_normalization_58 (Ba  (None, 6, 6, 64)             256       ['conv2d_58[0][0]']           \n",
            " tchNormalization)                                                                                \n",
            "                                                                                                  \n",
            " activation_53 (Activation)  (None, 6, 6, 64)             0         ['batch_normalization_58[0][0]\n",
            "                                                                    ']                            \n",
            "                                                                                                  \n",
            " conv2d_59 (Conv2D)          (None, 6, 6, 64)             36928     ['activation_53[0][0]']       \n",
            "                                                                                                  \n",
            " batch_normalization_59 (Ba  (None, 6, 6, 64)             256       ['conv2d_59[0][0]']           \n",
            " tchNormalization)                                                                                \n",
            "                                                                                                  \n",
            " activation_54 (Activation)  (None, 6, 6, 64)             0         ['batch_normalization_59[0][0]\n",
            "                                                                    ']                            \n",
            "                                                                                                  \n",
            " conv2d_60 (Conv2D)          (None, 6, 6, 256)            16640     ['activation_54[0][0]']       \n",
            "                                                                                                  \n",
            " batch_normalization_60 (Ba  (None, 6, 6, 256)            1024      ['conv2d_60[0][0]']           \n",
            " tchNormalization)                                                                                \n",
            "                                                                                                  \n",
            " add_17 (Add)                (None, 6, 6, 256)            0         ['batch_normalization_60[0][0]\n",
            "                                                                    ',                            \n",
            "                                                                     'activation_52[0][0]']       \n",
            "                                                                                                  \n",
            " activation_55 (Activation)  (None, 6, 6, 256)            0         ['add_17[0][0]']              \n",
            "                                                                                                  \n",
            " conv2d_61 (Conv2D)          (None, 6, 6, 64)             16448     ['activation_55[0][0]']       \n",
            "                                                                                                  \n",
            " batch_normalization_61 (Ba  (None, 6, 6, 64)             256       ['conv2d_61[0][0]']           \n",
            " tchNormalization)                                                                                \n",
            "                                                                                                  \n",
            " activation_56 (Activation)  (None, 6, 6, 64)             0         ['batch_normalization_61[0][0]\n",
            "                                                                    ']                            \n",
            "                                                                                                  \n",
            " conv2d_62 (Conv2D)          (None, 6, 6, 64)             36928     ['activation_56[0][0]']       \n",
            "                                                                                                  \n",
            " batch_normalization_62 (Ba  (None, 6, 6, 64)             256       ['conv2d_62[0][0]']           \n",
            " tchNormalization)                                                                                \n",
            "                                                                                                  \n",
            " activation_57 (Activation)  (None, 6, 6, 64)             0         ['batch_normalization_62[0][0]\n",
            "                                                                    ']                            \n",
            "                                                                                                  \n",
            " conv2d_63 (Conv2D)          (None, 6, 6, 256)            16640     ['activation_57[0][0]']       \n",
            "                                                                                                  \n",
            " batch_normalization_63 (Ba  (None, 6, 6, 256)            1024      ['conv2d_63[0][0]']           \n",
            " tchNormalization)                                                                                \n",
            "                                                                                                  \n",
            " add_18 (Add)                (None, 6, 6, 256)            0         ['batch_normalization_63[0][0]\n",
            "                                                                    ',                            \n",
            "                                                                     'activation_55[0][0]']       \n",
            "                                                                                                  \n",
            " activation_58 (Activation)  (None, 6, 6, 256)            0         ['add_18[0][0]']              \n",
            "                                                                                                  \n",
            " conv2d_64 (Conv2D)          (None, 3, 3, 128)            32896     ['activation_58[0][0]']       \n",
            "                                                                                                  \n",
            " batch_normalization_64 (Ba  (None, 3, 3, 128)            512       ['conv2d_64[0][0]']           \n",
            " tchNormalization)                                                                                \n",
            "                                                                                                  \n",
            " activation_59 (Activation)  (None, 3, 3, 128)            0         ['batch_normalization_64[0][0]\n",
            "                                                                    ']                            \n",
            "                                                                                                  \n",
            " conv2d_65 (Conv2D)          (None, 3, 3, 128)            147584    ['activation_59[0][0]']       \n",
            "                                                                                                  \n",
            " batch_normalization_65 (Ba  (None, 3, 3, 128)            512       ['conv2d_65[0][0]']           \n",
            " tchNormalization)                                                                                \n",
            "                                                                                                  \n",
            " activation_60 (Activation)  (None, 3, 3, 128)            0         ['batch_normalization_65[0][0]\n",
            "                                                                    ']                            \n",
            "                                                                                                  \n",
            " conv2d_66 (Conv2D)          (None, 3, 3, 512)            66048     ['activation_60[0][0]']       \n",
            "                                                                                                  \n",
            " conv2d_67 (Conv2D)          (None, 3, 3, 512)            131584    ['activation_58[0][0]']       \n",
            "                                                                                                  \n",
            " batch_normalization_66 (Ba  (None, 3, 3, 512)            2048      ['conv2d_66[0][0]']           \n",
            " tchNormalization)                                                                                \n",
            "                                                                                                  \n",
            " batch_normalization_67 (Ba  (None, 3, 3, 512)            2048      ['conv2d_67[0][0]']           \n",
            " tchNormalization)                                                                                \n",
            "                                                                                                  \n",
            " add_19 (Add)                (None, 3, 3, 512)            0         ['batch_normalization_66[0][0]\n",
            "                                                                    ',                            \n",
            "                                                                     'batch_normalization_67[0][0]\n",
            "                                                                    ']                            \n",
            "                                                                                                  \n",
            " activation_61 (Activation)  (None, 3, 3, 512)            0         ['add_19[0][0]']              \n",
            "                                                                                                  \n",
            " conv2d_68 (Conv2D)          (None, 3, 3, 128)            65664     ['activation_61[0][0]']       \n",
            "                                                                                                  \n",
            " batch_normalization_68 (Ba  (None, 3, 3, 128)            512       ['conv2d_68[0][0]']           \n",
            " tchNormalization)                                                                                \n",
            "                                                                                                  \n",
            " activation_62 (Activation)  (None, 3, 3, 128)            0         ['batch_normalization_68[0][0]\n",
            "                                                                    ']                            \n",
            "                                                                                                  \n",
            " conv2d_69 (Conv2D)          (None, 3, 3, 128)            147584    ['activation_62[0][0]']       \n",
            "                                                                                                  \n",
            " batch_normalization_69 (Ba  (None, 3, 3, 128)            512       ['conv2d_69[0][0]']           \n",
            " tchNormalization)                                                                                \n",
            "                                                                                                  \n",
            " activation_63 (Activation)  (None, 3, 3, 128)            0         ['batch_normalization_69[0][0]\n",
            "                                                                    ']                            \n",
            "                                                                                                  \n",
            " conv2d_70 (Conv2D)          (None, 3, 3, 512)            66048     ['activation_63[0][0]']       \n",
            "                                                                                                  \n",
            " batch_normalization_70 (Ba  (None, 3, 3, 512)            2048      ['conv2d_70[0][0]']           \n",
            " tchNormalization)                                                                                \n",
            "                                                                                                  \n",
            " add_20 (Add)                (None, 3, 3, 512)            0         ['batch_normalization_70[0][0]\n",
            "                                                                    ',                            \n",
            "                                                                     'activation_61[0][0]']       \n",
            "                                                                                                  \n",
            " activation_64 (Activation)  (None, 3, 3, 512)            0         ['add_20[0][0]']              \n",
            "                                                                                                  \n",
            " conv2d_71 (Conv2D)          (None, 3, 3, 128)            65664     ['activation_64[0][0]']       \n",
            "                                                                                                  \n",
            " batch_normalization_71 (Ba  (None, 3, 3, 128)            512       ['conv2d_71[0][0]']           \n",
            " tchNormalization)                                                                                \n",
            "                                                                                                  \n",
            " activation_65 (Activation)  (None, 3, 3, 128)            0         ['batch_normalization_71[0][0]\n",
            "                                                                    ']                            \n",
            "                                                                                                  \n",
            " conv2d_72 (Conv2D)          (None, 3, 3, 128)            147584    ['activation_65[0][0]']       \n",
            "                                                                                                  \n",
            " batch_normalization_72 (Ba  (None, 3, 3, 128)            512       ['conv2d_72[0][0]']           \n",
            " tchNormalization)                                                                                \n",
            "                                                                                                  \n",
            " activation_66 (Activation)  (None, 3, 3, 128)            0         ['batch_normalization_72[0][0]\n",
            "                                                                    ']                            \n",
            "                                                                                                  \n",
            " conv2d_73 (Conv2D)          (None, 3, 3, 512)            66048     ['activation_66[0][0]']       \n",
            "                                                                                                  \n",
            " batch_normalization_73 (Ba  (None, 3, 3, 512)            2048      ['conv2d_73[0][0]']           \n",
            " tchNormalization)                                                                                \n",
            "                                                                                                  \n",
            " add_21 (Add)                (None, 3, 3, 512)            0         ['batch_normalization_73[0][0]\n",
            "                                                                    ',                            \n",
            "                                                                     'activation_64[0][0]']       \n",
            "                                                                                                  \n",
            " activation_67 (Activation)  (None, 3, 3, 512)            0         ['add_21[0][0]']              \n",
            "                                                                                                  \n",
            " conv2d_74 (Conv2D)          (None, 3, 3, 128)            65664     ['activation_67[0][0]']       \n",
            "                                                                                                  \n",
            " batch_normalization_74 (Ba  (None, 3, 3, 128)            512       ['conv2d_74[0][0]']           \n",
            " tchNormalization)                                                                                \n",
            "                                                                                                  \n",
            " activation_68 (Activation)  (None, 3, 3, 128)            0         ['batch_normalization_74[0][0]\n",
            "                                                                    ']                            \n",
            "                                                                                                  \n",
            " conv2d_75 (Conv2D)          (None, 3, 3, 128)            147584    ['activation_68[0][0]']       \n",
            "                                                                                                  \n",
            " batch_normalization_75 (Ba  (None, 3, 3, 128)            512       ['conv2d_75[0][0]']           \n",
            " tchNormalization)                                                                                \n",
            "                                                                                                  \n",
            " activation_69 (Activation)  (None, 3, 3, 128)            0         ['batch_normalization_75[0][0]\n",
            "                                                                    ']                            \n",
            "                                                                                                  \n",
            " conv2d_76 (Conv2D)          (None, 3, 3, 512)            66048     ['activation_69[0][0]']       \n",
            "                                                                                                  \n",
            " batch_normalization_76 (Ba  (None, 3, 3, 512)            2048      ['conv2d_76[0][0]']           \n",
            " tchNormalization)                                                                                \n",
            "                                                                                                  \n",
            " add_22 (Add)                (None, 3, 3, 512)            0         ['batch_normalization_76[0][0]\n",
            "                                                                    ',                            \n",
            "                                                                     'activation_67[0][0]']       \n",
            "                                                                                                  \n",
            " activation_70 (Activation)  (None, 3, 3, 512)            0         ['add_22[0][0]']              \n",
            "                                                                                                  \n",
            " conv2d_77 (Conv2D)          (None, 2, 2, 256)            131328    ['activation_70[0][0]']       \n",
            "                                                                                                  \n",
            " batch_normalization_77 (Ba  (None, 2, 2, 256)            1024      ['conv2d_77[0][0]']           \n",
            " tchNormalization)                                                                                \n",
            "                                                                                                  \n",
            " activation_71 (Activation)  (None, 2, 2, 256)            0         ['batch_normalization_77[0][0]\n",
            "                                                                    ']                            \n",
            "                                                                                                  \n",
            " conv2d_78 (Conv2D)          (None, 2, 2, 256)            590080    ['activation_71[0][0]']       \n",
            "                                                                                                  \n",
            " batch_normalization_78 (Ba  (None, 2, 2, 256)            1024      ['conv2d_78[0][0]']           \n",
            " tchNormalization)                                                                                \n",
            "                                                                                                  \n",
            " activation_72 (Activation)  (None, 2, 2, 256)            0         ['batch_normalization_78[0][0]\n",
            "                                                                    ']                            \n",
            "                                                                                                  \n",
            " conv2d_79 (Conv2D)          (None, 2, 2, 1024)           263168    ['activation_72[0][0]']       \n",
            "                                                                                                  \n",
            " conv2d_80 (Conv2D)          (None, 2, 2, 1024)           525312    ['activation_70[0][0]']       \n",
            "                                                                                                  \n",
            " batch_normalization_79 (Ba  (None, 2, 2, 1024)           4096      ['conv2d_79[0][0]']           \n",
            " tchNormalization)                                                                                \n",
            "                                                                                                  \n",
            " batch_normalization_80 (Ba  (None, 2, 2, 1024)           4096      ['conv2d_80[0][0]']           \n",
            " tchNormalization)                                                                                \n",
            "                                                                                                  \n",
            " add_23 (Add)                (None, 2, 2, 1024)           0         ['batch_normalization_79[0][0]\n",
            "                                                                    ',                            \n",
            "                                                                     'batch_normalization_80[0][0]\n",
            "                                                                    ']                            \n",
            "                                                                                                  \n",
            " activation_73 (Activation)  (None, 2, 2, 1024)           0         ['add_23[0][0]']              \n",
            "                                                                                                  \n",
            " conv2d_81 (Conv2D)          (None, 2, 2, 256)            262400    ['activation_73[0][0]']       \n",
            "                                                                                                  \n",
            " batch_normalization_81 (Ba  (None, 2, 2, 256)            1024      ['conv2d_81[0][0]']           \n",
            " tchNormalization)                                                                                \n",
            "                                                                                                  \n",
            " activation_74 (Activation)  (None, 2, 2, 256)            0         ['batch_normalization_81[0][0]\n",
            "                                                                    ']                            \n",
            "                                                                                                  \n",
            " conv2d_82 (Conv2D)          (None, 2, 2, 256)            590080    ['activation_74[0][0]']       \n",
            "                                                                                                  \n",
            " batch_normalization_82 (Ba  (None, 2, 2, 256)            1024      ['conv2d_82[0][0]']           \n",
            " tchNormalization)                                                                                \n",
            "                                                                                                  \n",
            " activation_75 (Activation)  (None, 2, 2, 256)            0         ['batch_normalization_82[0][0]\n",
            "                                                                    ']                            \n",
            "                                                                                                  \n",
            " conv2d_83 (Conv2D)          (None, 2, 2, 1024)           263168    ['activation_75[0][0]']       \n",
            "                                                                                                  \n",
            " batch_normalization_83 (Ba  (None, 2, 2, 1024)           4096      ['conv2d_83[0][0]']           \n",
            " tchNormalization)                                                                                \n",
            "                                                                                                  \n",
            " add_24 (Add)                (None, 2, 2, 1024)           0         ['batch_normalization_83[0][0]\n",
            "                                                                    ',                            \n",
            "                                                                     'activation_73[0][0]']       \n",
            "                                                                                                  \n",
            " activation_76 (Activation)  (None, 2, 2, 1024)           0         ['add_24[0][0]']              \n",
            "                                                                                                  \n",
            " conv2d_84 (Conv2D)          (None, 2, 2, 256)            262400    ['activation_76[0][0]']       \n",
            "                                                                                                  \n",
            " batch_normalization_84 (Ba  (None, 2, 2, 256)            1024      ['conv2d_84[0][0]']           \n",
            " tchNormalization)                                                                                \n",
            "                                                                                                  \n",
            " activation_77 (Activation)  (None, 2, 2, 256)            0         ['batch_normalization_84[0][0]\n",
            "                                                                    ']                            \n",
            "                                                                                                  \n",
            " conv2d_85 (Conv2D)          (None, 2, 2, 256)            590080    ['activation_77[0][0]']       \n",
            "                                                                                                  \n",
            " batch_normalization_85 (Ba  (None, 2, 2, 256)            1024      ['conv2d_85[0][0]']           \n",
            " tchNormalization)                                                                                \n",
            "                                                                                                  \n",
            " activation_78 (Activation)  (None, 2, 2, 256)            0         ['batch_normalization_85[0][0]\n",
            "                                                                    ']                            \n",
            "                                                                                                  \n",
            " conv2d_86 (Conv2D)          (None, 2, 2, 1024)           263168    ['activation_78[0][0]']       \n",
            "                                                                                                  \n",
            " batch_normalization_86 (Ba  (None, 2, 2, 1024)           4096      ['conv2d_86[0][0]']           \n",
            " tchNormalization)                                                                                \n",
            "                                                                                                  \n",
            " add_25 (Add)                (None, 2, 2, 1024)           0         ['batch_normalization_86[0][0]\n",
            "                                                                    ',                            \n",
            "                                                                     'activation_76[0][0]']       \n",
            "                                                                                                  \n",
            " activation_79 (Activation)  (None, 2, 2, 1024)           0         ['add_25[0][0]']              \n",
            "                                                                                                  \n",
            " conv2d_87 (Conv2D)          (None, 2, 2, 256)            262400    ['activation_79[0][0]']       \n",
            "                                                                                                  \n",
            " batch_normalization_87 (Ba  (None, 2, 2, 256)            1024      ['conv2d_87[0][0]']           \n",
            " tchNormalization)                                                                                \n",
            "                                                                                                  \n",
            " activation_80 (Activation)  (None, 2, 2, 256)            0         ['batch_normalization_87[0][0]\n",
            "                                                                    ']                            \n",
            "                                                                                                  \n",
            " conv2d_88 (Conv2D)          (None, 2, 2, 256)            590080    ['activation_80[0][0]']       \n",
            "                                                                                                  \n",
            " batch_normalization_88 (Ba  (None, 2, 2, 256)            1024      ['conv2d_88[0][0]']           \n",
            " tchNormalization)                                                                                \n",
            "                                                                                                  \n",
            " activation_81 (Activation)  (None, 2, 2, 256)            0         ['batch_normalization_88[0][0]\n",
            "                                                                    ']                            \n",
            "                                                                                                  \n",
            " conv2d_89 (Conv2D)          (None, 2, 2, 1024)           263168    ['activation_81[0][0]']       \n",
            "                                                                                                  \n",
            " batch_normalization_89 (Ba  (None, 2, 2, 1024)           4096      ['conv2d_89[0][0]']           \n",
            " tchNormalization)                                                                                \n",
            "                                                                                                  \n",
            " add_26 (Add)                (None, 2, 2, 1024)           0         ['batch_normalization_89[0][0]\n",
            "                                                                    ',                            \n",
            "                                                                     'activation_79[0][0]']       \n",
            "                                                                                                  \n",
            " activation_82 (Activation)  (None, 2, 2, 1024)           0         ['add_26[0][0]']              \n",
            "                                                                                                  \n",
            " conv2d_90 (Conv2D)          (None, 2, 2, 256)            262400    ['activation_82[0][0]']       \n",
            "                                                                                                  \n",
            " batch_normalization_90 (Ba  (None, 2, 2, 256)            1024      ['conv2d_90[0][0]']           \n",
            " tchNormalization)                                                                                \n",
            "                                                                                                  \n",
            " activation_83 (Activation)  (None, 2, 2, 256)            0         ['batch_normalization_90[0][0]\n",
            "                                                                    ']                            \n",
            "                                                                                                  \n",
            " conv2d_91 (Conv2D)          (None, 2, 2, 256)            590080    ['activation_83[0][0]']       \n",
            "                                                                                                  \n",
            " batch_normalization_91 (Ba  (None, 2, 2, 256)            1024      ['conv2d_91[0][0]']           \n",
            " tchNormalization)                                                                                \n",
            "                                                                                                  \n",
            " activation_84 (Activation)  (None, 2, 2, 256)            0         ['batch_normalization_91[0][0]\n",
            "                                                                    ']                            \n",
            "                                                                                                  \n",
            " conv2d_92 (Conv2D)          (None, 2, 2, 1024)           263168    ['activation_84[0][0]']       \n",
            "                                                                                                  \n",
            " batch_normalization_92 (Ba  (None, 2, 2, 1024)           4096      ['conv2d_92[0][0]']           \n",
            " tchNormalization)                                                                                \n",
            "                                                                                                  \n",
            " add_27 (Add)                (None, 2, 2, 1024)           0         ['batch_normalization_92[0][0]\n",
            "                                                                    ',                            \n",
            "                                                                     'activation_82[0][0]']       \n",
            "                                                                                                  \n",
            " activation_85 (Activation)  (None, 2, 2, 1024)           0         ['add_27[0][0]']              \n",
            "                                                                                                  \n",
            " conv2d_93 (Conv2D)          (None, 2, 2, 256)            262400    ['activation_85[0][0]']       \n",
            "                                                                                                  \n",
            " batch_normalization_93 (Ba  (None, 2, 2, 256)            1024      ['conv2d_93[0][0]']           \n",
            " tchNormalization)                                                                                \n",
            "                                                                                                  \n",
            " activation_86 (Activation)  (None, 2, 2, 256)            0         ['batch_normalization_93[0][0]\n",
            "                                                                    ']                            \n",
            "                                                                                                  \n",
            " conv2d_94 (Conv2D)          (None, 2, 2, 256)            590080    ['activation_86[0][0]']       \n",
            "                                                                                                  \n",
            " batch_normalization_94 (Ba  (None, 2, 2, 256)            1024      ['conv2d_94[0][0]']           \n",
            " tchNormalization)                                                                                \n",
            "                                                                                                  \n",
            " activation_87 (Activation)  (None, 2, 2, 256)            0         ['batch_normalization_94[0][0]\n",
            "                                                                    ']                            \n",
            "                                                                                                  \n",
            " conv2d_95 (Conv2D)          (None, 2, 2, 1024)           263168    ['activation_87[0][0]']       \n",
            "                                                                                                  \n",
            " batch_normalization_95 (Ba  (None, 2, 2, 1024)           4096      ['conv2d_95[0][0]']           \n",
            " tchNormalization)                                                                                \n",
            "                                                                                                  \n",
            " add_28 (Add)                (None, 2, 2, 1024)           0         ['batch_normalization_95[0][0]\n",
            "                                                                    ',                            \n",
            "                                                                     'activation_85[0][0]']       \n",
            "                                                                                                  \n",
            " activation_88 (Activation)  (None, 2, 2, 1024)           0         ['add_28[0][0]']              \n",
            "                                                                                                  \n",
            " conv2d_96 (Conv2D)          (None, 1, 1, 512)            524800    ['activation_88[0][0]']       \n",
            "                                                                                                  \n",
            " batch_normalization_96 (Ba  (None, 1, 1, 512)            2048      ['conv2d_96[0][0]']           \n",
            " tchNormalization)                                                                                \n",
            "                                                                                                  \n",
            " activation_89 (Activation)  (None, 1, 1, 512)            0         ['batch_normalization_96[0][0]\n",
            "                                                                    ']                            \n",
            "                                                                                                  \n",
            " conv2d_97 (Conv2D)          (None, 1, 1, 512)            2359808   ['activation_89[0][0]']       \n",
            "                                                                                                  \n",
            " batch_normalization_97 (Ba  (None, 1, 1, 512)            2048      ['conv2d_97[0][0]']           \n",
            " tchNormalization)                                                                                \n",
            "                                                                                                  \n",
            " activation_90 (Activation)  (None, 1, 1, 512)            0         ['batch_normalization_97[0][0]\n",
            "                                                                    ']                            \n",
            "                                                                                                  \n",
            " conv2d_98 (Conv2D)          (None, 1, 1, 2048)           1050624   ['activation_90[0][0]']       \n",
            "                                                                                                  \n",
            " conv2d_99 (Conv2D)          (None, 1, 1, 2048)           2099200   ['activation_88[0][0]']       \n",
            "                                                                                                  \n",
            " batch_normalization_98 (Ba  (None, 1, 1, 2048)           8192      ['conv2d_98[0][0]']           \n",
            " tchNormalization)                                                                                \n",
            "                                                                                                  \n",
            " batch_normalization_99 (Ba  (None, 1, 1, 2048)           8192      ['conv2d_99[0][0]']           \n",
            " tchNormalization)                                                                                \n",
            "                                                                                                  \n",
            " add_29 (Add)                (None, 1, 1, 2048)           0         ['batch_normalization_98[0][0]\n",
            "                                                                    ',                            \n",
            "                                                                     'batch_normalization_99[0][0]\n",
            "                                                                    ']                            \n",
            "                                                                                                  \n",
            " activation_91 (Activation)  (None, 1, 1, 2048)           0         ['add_29[0][0]']              \n",
            "                                                                                                  \n",
            " conv2d_100 (Conv2D)         (None, 1, 1, 512)            1049088   ['activation_91[0][0]']       \n",
            "                                                                                                  \n",
            " batch_normalization_100 (B  (None, 1, 1, 512)            2048      ['conv2d_100[0][0]']          \n",
            " atchNormalization)                                                                               \n",
            "                                                                                                  \n",
            " activation_92 (Activation)  (None, 1, 1, 512)            0         ['batch_normalization_100[0][0\n",
            "                                                                    ]']                           \n",
            "                                                                                                  \n",
            " conv2d_101 (Conv2D)         (None, 1, 1, 512)            2359808   ['activation_92[0][0]']       \n",
            "                                                                                                  \n",
            " batch_normalization_101 (B  (None, 1, 1, 512)            2048      ['conv2d_101[0][0]']          \n",
            " atchNormalization)                                                                               \n",
            "                                                                                                  \n",
            " activation_93 (Activation)  (None, 1, 1, 512)            0         ['batch_normalization_101[0][0\n",
            "                                                                    ]']                           \n",
            "                                                                                                  \n",
            " conv2d_102 (Conv2D)         (None, 1, 1, 2048)           1050624   ['activation_93[0][0]']       \n",
            "                                                                                                  \n",
            " batch_normalization_102 (B  (None, 1, 1, 2048)           8192      ['conv2d_102[0][0]']          \n",
            " atchNormalization)                                                                               \n",
            "                                                                                                  \n",
            " add_30 (Add)                (None, 1, 1, 2048)           0         ['batch_normalization_102[0][0\n",
            "                                                                    ]',                           \n",
            "                                                                     'activation_91[0][0]']       \n",
            "                                                                                                  \n",
            " activation_94 (Activation)  (None, 1, 1, 2048)           0         ['add_30[0][0]']              \n",
            "                                                                                                  \n",
            " conv2d_103 (Conv2D)         (None, 1, 1, 512)            1049088   ['activation_94[0][0]']       \n",
            "                                                                                                  \n",
            " batch_normalization_103 (B  (None, 1, 1, 512)            2048      ['conv2d_103[0][0]']          \n",
            " atchNormalization)                                                                               \n",
            "                                                                                                  \n",
            " activation_95 (Activation)  (None, 1, 1, 512)            0         ['batch_normalization_103[0][0\n",
            "                                                                    ]']                           \n",
            "                                                                                                  \n",
            " conv2d_104 (Conv2D)         (None, 1, 1, 512)            2359808   ['activation_95[0][0]']       \n",
            "                                                                                                  \n",
            " batch_normalization_104 (B  (None, 1, 1, 512)            2048      ['conv2d_104[0][0]']          \n",
            " atchNormalization)                                                                               \n",
            "                                                                                                  \n",
            " activation_96 (Activation)  (None, 1, 1, 512)            0         ['batch_normalization_104[0][0\n",
            "                                                                    ]']                           \n",
            "                                                                                                  \n",
            " conv2d_105 (Conv2D)         (None, 1, 1, 2048)           1050624   ['activation_96[0][0]']       \n",
            "                                                                                                  \n",
            " batch_normalization_105 (B  (None, 1, 1, 2048)           8192      ['conv2d_105[0][0]']          \n",
            " atchNormalization)                                                                               \n",
            "                                                                                                  \n",
            " add_31 (Add)                (None, 1, 1, 2048)           0         ['batch_normalization_105[0][0\n",
            "                                                                    ]',                           \n",
            "                                                                     'activation_94[0][0]']       \n",
            "                                                                                                  \n",
            " activation_97 (Activation)  (None, 1, 1, 2048)           0         ['add_31[0][0]']              \n",
            "                                                                                                  \n",
            " average_pooling2d_1 (Avera  (None, 1, 1, 2048)           0         ['activation_97[0][0]']       \n",
            " gePooling2D)                                                                                     \n",
            "                                                                                                  \n",
            " flatten_1 (Flatten)         (None, 2048)                 0         ['average_pooling2d_1[0][0]'] \n",
            "                                                                                                  \n",
            " dense_1 (Dense)             (None, 64)                   131136    ['flatten_1[0][0]']           \n",
            "                                                                                                  \n",
            " dense_2 (Dense)             (None, 128)                  8320      ['dense_1[0][0]']             \n",
            "                                                                                                  \n",
            " dense_3 (Dense)             (None, 36)                   4644      ['dense_2[0][0]']             \n",
            "                                                                                                  \n",
            "==================================================================================================\n",
            "Total params: 23725540 (90.51 MB)\n",
            "Trainable params: 23672420 (90.30 MB)\n",
            "Non-trainable params: 53120 (207.50 KB)\n",
            "__________________________________________________________________________________________________\n"
          ]
        }
      ]
    },
    {
      "cell_type": "code",
      "source": [
        "# compile model\n",
        "resnet50_model.compile(loss='categorical_crossentropy', optimizer=Adam(learning_rate=1e-3),\n",
        "                       metrics=['accuracy'])"
      ],
      "metadata": {
        "id": "hIxprWuadKYS"
      },
      "execution_count": null,
      "outputs": []
    },
    {
      "cell_type": "code",
      "source": [
        "# Create actual labels\n",
        "name_labels = '0123456789'\n",
        "name_labels += 'ABCDEFGHIJKLMNOPQRSTUVWXYZ'\n",
        "name_labels = [l for l in name_labels]\n",
        "\n",
        "# Check actual label\n",
        "print(name_labels)"
      ],
      "metadata": {
        "colab": {
          "base_uri": "https://localhost:8080/"
        },
        "id": "T2qtnfKrcWow",
        "outputId": "a49f06da-774c-45de-8ec0-392ac74ba0a0"
      },
      "execution_count": null,
      "outputs": [
        {
          "output_type": "stream",
          "name": "stdout",
          "text": [
            "['0', '1', '2', '3', '4', '5', '6', '7', '8', '9', 'A', 'B', 'C', 'D', 'E', 'F', 'G', 'H', 'I', 'J', 'K', 'L', 'M', 'N', 'O', 'P', 'Q', 'R', 'S', 'T', 'U', 'V', 'W', 'X', 'Y', 'Z']\n"
          ]
        }
      ]
    },
    {
      "cell_type": "markdown",
      "source": [
        "## Train model"
      ],
      "metadata": {
        "id": "QmEbqt75cvk7"
      }
    },
    {
      "cell_type": "code",
      "source": [
        "# Set model name, epoch, and batch size\n",
        "file_model = 'custom_ocr_resnet50.model'\n",
        "epochs = 20\n",
        "batch_size = 128"
      ],
      "metadata": {
        "id": "rU3YPjFRctxN"
      },
      "execution_count": null,
      "outputs": []
    },
    {
      "cell_type": "code",
      "source": [
        "# Setup checkpoint\n",
        "from tensorflow.keras.callbacks import ModelCheckpoint\n",
        "checkpointer = ModelCheckpoint(file_model, monitor = 'val_loss', verbose = 1, save_best_only=True)"
      ],
      "metadata": {
        "id": "XSlT-4oMc0qN"
      },
      "execution_count": null,
      "outputs": []
    },
    {
      "cell_type": "code",
      "source": [
        "# Fit the model\n",
        "history = resnet50_model.fit(augmentation.flow(X_train, y_train, batch_size=batch_size),\n",
        "                      validation_data = (X_test, y_test),\n",
        "                      steps_per_epoch = len(X_train) // batch_size, epochs=epochs,\n",
        "                      class_weight = classes_weights, verbose=1, callbacks=[checkpointer])"
      ],
      "metadata": {
        "colab": {
          "base_uri": "https://localhost:8080/"
        },
        "id": "ooJmVQLHc2vM",
        "outputId": "d06663e3-7887-4170-9aca-8f0a01fed0d3"
      },
      "execution_count": null,
      "outputs": [
        {
          "output_type": "stream",
          "name": "stdout",
          "text": [
            "Epoch 1/20\n",
            "2765/2765 [==============================] - ETA: 0s - loss: 11.0483 - accuracy: 0.7677\n",
            "Epoch 1: val_loss improved from inf to 4.02739, saving model to custom_ocr_resnet50.model\n",
            "2765/2765 [==============================] - 197s 60ms/step - loss: 11.0483 - accuracy: 0.7677 - val_loss: 4.0274 - val_accuracy: 0.7989\n",
            "Epoch 2/20\n",
            "2765/2765 [==============================] - ETA: 0s - loss: 4.2320 - accuracy: 0.8737\n",
            "Epoch 2: val_loss improved from 4.02739 to 3.52373, saving model to custom_ocr_resnet50.model\n",
            "2765/2765 [==============================] - 166s 60ms/step - loss: 4.2320 - accuracy: 0.8737 - val_loss: 3.5237 - val_accuracy: 0.6085\n",
            "Epoch 3/20\n",
            "2764/2765 [============================>.] - ETA: 0s - loss: 3.6722 - accuracy: 0.8791\n",
            "Epoch 3: val_loss did not improve from 3.52373\n",
            "2765/2765 [==============================] - 144s 52ms/step - loss: 3.6719 - accuracy: 0.8791 - val_loss: 17.4893 - val_accuracy: 0.0676\n",
            "Epoch 4/20\n",
            "2764/2765 [============================>.] - ETA: 0s - loss: 3.0479 - accuracy: 0.8894\n",
            "Epoch 4: val_loss improved from 3.52373 to 3.26633, saving model to custom_ocr_resnet50.model\n",
            "2765/2765 [==============================] - 167s 60ms/step - loss: 3.0475 - accuracy: 0.8894 - val_loss: 3.2663 - val_accuracy: 0.4886\n",
            "Epoch 5/20\n",
            "2764/2765 [============================>.] - ETA: 0s - loss: 3.4744 - accuracy: 0.8759\n",
            "Epoch 5: val_loss did not improve from 3.26633\n",
            "2765/2765 [==============================] - 144s 52ms/step - loss: 3.4741 - accuracy: 0.8759 - val_loss: 6.6867 - val_accuracy: 0.3350\n",
            "Epoch 6/20\n",
            "2765/2765 [==============================] - ETA: 0s - loss: 3.1017 - accuracy: 0.8870\n",
            "Epoch 6: val_loss did not improve from 3.26633\n",
            "2765/2765 [==============================] - 145s 52ms/step - loss: 3.1017 - accuracy: 0.8870 - val_loss: 5.1411 - val_accuracy: 0.4295\n",
            "Epoch 7/20\n",
            "2764/2765 [============================>.] - ETA: 0s - loss: 3.9941 - accuracy: 0.8699\n",
            "Epoch 7: val_loss did not improve from 3.26633\n",
            "2765/2765 [==============================] - 144s 52ms/step - loss: 3.9943 - accuracy: 0.8699 - val_loss: 4.4734 - val_accuracy: 0.4537\n",
            "Epoch 8/20\n",
            "2765/2765 [==============================] - ETA: 0s - loss: 2.5902 - accuracy: 0.9004\n",
            "Epoch 8: val_loss improved from 3.26633 to 1.73317, saving model to custom_ocr_resnet50.model\n",
            "2765/2765 [==============================] - 166s 60ms/step - loss: 2.5902 - accuracy: 0.9004 - val_loss: 1.7332 - val_accuracy: 0.8311\n",
            "Epoch 9/20\n",
            "2765/2765 [==============================] - ETA: 0s - loss: 2.9196 - accuracy: 0.8874\n",
            "Epoch 9: val_loss improved from 1.73317 to 1.56921, saving model to custom_ocr_resnet50.model\n",
            "2765/2765 [==============================] - 166s 60ms/step - loss: 2.9196 - accuracy: 0.8874 - val_loss: 1.5692 - val_accuracy: 0.8809\n",
            "Epoch 10/20\n",
            "2765/2765 [==============================] - ETA: 0s - loss: 2.6346 - accuracy: 0.8970\n",
            "Epoch 10: val_loss improved from 1.56921 to 1.36871, saving model to custom_ocr_resnet50.model\n",
            "2765/2765 [==============================] - 166s 60ms/step - loss: 2.6346 - accuracy: 0.8970 - val_loss: 1.3687 - val_accuracy: 0.8896\n",
            "Epoch 11/20\n",
            "2765/2765 [==============================] - ETA: 0s - loss: 3.0313 - accuracy: 0.8819\n",
            "Epoch 11: val_loss did not improve from 1.36871\n",
            "2765/2765 [==============================] - 144s 52ms/step - loss: 3.0313 - accuracy: 0.8819 - val_loss: 2.7111 - val_accuracy: 0.6430\n",
            "Epoch 12/20\n",
            "2765/2765 [==============================] - ETA: 0s - loss: 2.7397 - accuracy: 0.8877\n",
            "Epoch 12: val_loss did not improve from 1.36871\n",
            "2765/2765 [==============================] - 144s 52ms/step - loss: 2.7397 - accuracy: 0.8877 - val_loss: 4.6759 - val_accuracy: 0.3939\n",
            "Epoch 13/20\n",
            "2765/2765 [==============================] - ETA: 0s - loss: 2.6664 - accuracy: 0.8950\n",
            "Epoch 13: val_loss did not improve from 1.36871\n",
            "2765/2765 [==============================] - 144s 52ms/step - loss: 2.6664 - accuracy: 0.8950 - val_loss: 8.5380 - val_accuracy: 0.1428\n",
            "Epoch 14/20\n",
            "2764/2765 [============================>.] - ETA: 0s - loss: 1.7826 - accuracy: 0.9116\n",
            "Epoch 14: val_loss did not improve from 1.36871\n",
            "2765/2765 [==============================] - 142s 51ms/step - loss: 1.7825 - accuracy: 0.9117 - val_loss: 1.6383 - val_accuracy: 0.7106\n",
            "Epoch 15/20\n",
            "2764/2765 [============================>.] - ETA: 0s - loss: 1.5858 - accuracy: 0.9123\n",
            "Epoch 15: val_loss improved from 1.36871 to 1.05942, saving model to custom_ocr_resnet50.model\n",
            "2765/2765 [==============================] - 164s 59ms/step - loss: 1.5857 - accuracy: 0.9123 - val_loss: 1.0594 - val_accuracy: 0.8505\n",
            "Epoch 16/20\n",
            "2765/2765 [==============================] - ETA: 0s - loss: 1.4957 - accuracy: 0.9127\n",
            "Epoch 16: val_loss improved from 1.05942 to 0.96998, saving model to custom_ocr_resnet50.model\n",
            "2765/2765 [==============================] - 164s 59ms/step - loss: 1.4957 - accuracy: 0.9127 - val_loss: 0.9700 - val_accuracy: 0.8320\n",
            "Epoch 17/20\n",
            "2764/2765 [============================>.] - ETA: 0s - loss: 1.4844 - accuracy: 0.9137\n",
            "Epoch 17: val_loss did not improve from 0.96998\n",
            "2765/2765 [==============================] - 142s 51ms/step - loss: 1.4843 - accuracy: 0.9137 - val_loss: 1.7981 - val_accuracy: 0.6428\n",
            "Epoch 18/20\n",
            "2764/2765 [============================>.] - ETA: 0s - loss: 1.3804 - accuracy: 0.9140\n",
            "Epoch 18: val_loss did not improve from 0.96998\n",
            "2765/2765 [==============================] - 141s 51ms/step - loss: 1.3802 - accuracy: 0.9140 - val_loss: 1.4790 - val_accuracy: 0.7173\n",
            "Epoch 19/20\n",
            "2764/2765 [============================>.] - ETA: 0s - loss: 1.3516 - accuracy: 0.9155\n",
            "Epoch 19: val_loss did not improve from 0.96998\n",
            "2765/2765 [==============================] - 141s 51ms/step - loss: 1.3516 - accuracy: 0.9155 - val_loss: 2.2204 - val_accuracy: 0.5538\n",
            "Epoch 20/20\n",
            "2765/2765 [==============================] - ETA: 0s - loss: 1.2847 - accuracy: 0.9157\n",
            "Epoch 20: val_loss did not improve from 0.96998\n",
            "2765/2765 [==============================] - 138s 50ms/step - loss: 1.2847 - accuracy: 0.9157 - val_loss: 1.6991 - val_accuracy: 0.6620\n"
          ]
        }
      ]
    },
    {
      "cell_type": "code",
      "source": [
        "# Visualize loss value for each epoch\n",
        "plt.plot(history.history['val_loss'])"
      ],
      "metadata": {
        "colab": {
          "base_uri": "https://localhost:8080/",
          "height": 447
        },
        "id": "UOVbVfzMpsLG",
        "outputId": "b2bbdc0d-bf1b-4f0d-fdfc-bb5f2e2b7e8f"
      },
      "execution_count": null,
      "outputs": [
        {
          "output_type": "execute_result",
          "data": {
            "text/plain": [
              "[<matplotlib.lines.Line2D at 0x7d31da9edb40>]"
            ]
          },
          "metadata": {},
          "execution_count": 36
        },
        {
          "output_type": "display_data",
          "data": {
            "text/plain": [
              "<Figure size 640x480 with 1 Axes>"
            ],
            "image/png": "[encoded data removed]"
          },
          "metadata": {}
        }
      ]
    },
    {
      "cell_type": "code",
      "source": [
        "# Check the model performance by validation accuracy\n",
        "plt.plot(history.history['val_accuracy'])"
      ],
      "metadata": {
        "colab": {
          "base_uri": "https://localhost:8080/",
          "height": 447
        },
        "id": "ui9rRscDp3N3",
        "outputId": "90e0d2ce-6049-4fdc-8c1e-e3acae2e362e"
      },
      "execution_count": null,
      "outputs": [
        {
          "output_type": "execute_result",
          "data": {
            "text/plain": [
              "[<matplotlib.lines.Line2D at 0x7d307c2f1db0>]"
            ]
          },
          "metadata": {},
          "execution_count": 37
        },
        {
          "output_type": "display_data",
          "data": {
            "text/plain": [
              "<Figure size 640x480 with 1 Axes>"
            ],
            "image/png": "[encoded data removed]"
          },
          "metadata": {}
        }
      ]
    },
    {
      "cell_type": "code",
      "source": [
        "# make a prediction\n",
        "predictions = resnet50_model.predict(X_test, batch_size=batch_size)"
      ],
      "metadata": {
        "colab": {
          "base_uri": "https://localhost:8080/"
        },
        "id": "delmKaH82yv4",
        "outputId": "44327565-4b77-4a1d-c7ca-9c5662ad82ec"
      },
      "execution_count": null,
      "outputs": [
        {
          "output_type": "stream",
          "name": "stdout",
          "text": [
            "1383/1383 [==============================] - 8s 6ms/step\n"
          ]
        }
      ]
    },
    {
      "cell_type": "code",
      "source": [
        "# predict\n",
        "predictions[0]\n",
        "idx = np.argmax(predictions[0])\n",
        "name_labels[idx]"
      ],
      "metadata": {
        "colab": {
          "base_uri": "https://localhost:8080/",
          "height": 36
        },
        "id": "99JWLhNW220s",
        "outputId": "0e94975d-a89b-48ba-f851-e1385475146f"
      },
      "execution_count": null,
      "outputs": [
        {
          "output_type": "execute_result",
          "data": {
            "text/plain": [
              "'9'"
            ],
            "application/vnd.google.colaboratory.intrinsic+json": {
              "type": "string"
            }
          },
          "metadata": {},
          "execution_count": 39
        }
      ]
    },
    {
      "cell_type": "code",
      "source": [
        "# Check y_test label for 0\n",
        "y_test[0]\n",
        "idx_y = np.argmax(y_test[0])\n",
        "name_labels[np.argmax(y_test[0])]"
      ],
      "metadata": {
        "colab": {
          "base_uri": "https://localhost:8080/",
          "height": 36
        },
        "id": "Uzpgjto33Iv6",
        "outputId": "ef74b946-e056-40c7-bc7f-cc8e7cf0694c"
      },
      "execution_count": null,
      "outputs": [
        {
          "output_type": "execute_result",
          "data": {
            "text/plain": [
              "'O'"
            ],
            "application/vnd.google.colaboratory.intrinsic+json": {
              "type": "string"
            }
          },
          "metadata": {},
          "execution_count": 40
        }
      ]
    },
    {
      "cell_type": "code",
      "source": [
        "# Evaluate on test data\n",
        "resnet50_model.evaluate(X_test, y_test)"
      ],
      "metadata": {
        "colab": {
          "base_uri": "https://localhost:8080/"
        },
        "id": "PZ7UxB-x3WuI",
        "outputId": "b4bc9c08-d388-4b7f-b8fd-d2b21a5ad9e4"
      },
      "execution_count": null,
      "outputs": [
        {
          "output_type": "stream",
          "name": "stdout",
          "text": [
            "2766/2766 [==============================] - 21s 8ms/step - loss: 4.6410 - accuracy: 0.4039\n"
          ]
        },
        {
          "output_type": "execute_result",
          "data": {
            "text/plain": [
              "[4.641042232513428, 0.40388745069503784]"
            ]
          },
          "metadata": {},
          "execution_count": 41
        }
      ]
    },
    {
      "cell_type": "code",
      "source": [
        "print(classification_report(y_test.argmax(axis=1), predictions.argmax(axis=1), target_names = name_labels))"
      ],
      "metadata": {
        "colab": {
          "base_uri": "https://localhost:8080/"
        },
        "id": "G582CU083bpQ",
        "outputId": "39d73e1b-1123-4dee-95d1-d2177586597b"
      },
      "execution_count": null,
      "outputs": [
        {
          "output_type": "stream",
          "name": "stdout",
          "text": [
            "              precision    recall  f1-score   support\n",
            "\n",
            "           0       0.15      0.22      0.18      1381\n",
            "           1       0.25      0.00      0.00      1575\n",
            "           2       0.79      0.35      0.49      1398\n",
            "           3       0.53      0.86      0.66      1428\n",
            "           4       0.28      0.88      0.42      1365\n",
            "           5       1.00      0.12      0.22      1263\n",
            "           6       0.96      0.18      0.30      1375\n",
            "           7       0.19      0.49      0.27      1459\n",
            "           8       0.57      0.91      0.70      1365\n",
            "           9       0.11      0.99      0.20      1392\n",
            "           A       0.69      0.97      0.81      2774\n",
            "           B       0.87      0.81      0.84      1734\n",
            "           C       0.99      0.09      0.16      4682\n",
            "           D       0.74      0.86      0.80      2027\n",
            "           E       1.00      0.00      0.01      2288\n",
            "           F       0.00      0.00      0.00       233\n",
            "           G       0.06      0.98      0.11      1152\n",
            "           H       1.00      0.06      0.11      1444\n",
            "           I       0.00      0.00      0.00       224\n",
            "           J       0.00      0.00      0.00      1698\n",
            "           K       0.00      0.00      0.00      1121\n",
            "           L       0.00      0.00      0.00      2317\n",
            "           M       0.76      0.98      0.86      2467\n",
            "           N       0.73      0.92      0.81      3802\n",
            "           O       0.81      0.18      0.30     11565\n",
            "           P       0.45      0.97      0.62      3868\n",
            "           Q       0.31      0.95      0.47      1162\n",
            "           R       0.93      0.42      0.58      2313\n",
            "           S       0.86      0.33      0.48      9684\n",
            "           T       1.00      0.00      0.00      4499\n",
            "           U       0.00      0.00      0.00      5801\n",
            "           V       0.00      0.00      0.00       836\n",
            "           W       1.00      0.70      0.82      2157\n",
            "           X       0.82      0.94      0.87      1254\n",
            "           Y       0.85      0.60      0.70      2172\n",
            "           Z       1.00      0.17      0.29      1215\n",
            "\n",
            "    accuracy                           0.40     88490\n",
            "   macro avg       0.55      0.44      0.36     88490\n",
            "weighted avg       0.65      0.40      0.38     88490\n",
            "\n"
          ]
        },
        {
          "output_type": "stream",
          "name": "stderr",
          "text": [
            "/usr/local/lib/python3.10/dist-packages/sklearn/metrics/_classification.py:1344: UndefinedMetricWarning: Precision and F-score are ill-defined and being set to 0.0 in labels with no predicted samples. Use `zero_division` parameter to control this behavior.\n",
            "  _warn_prf(average, modifier, msg_start, len(result))\n",
            "/usr/local/lib/python3.10/dist-packages/sklearn/metrics/_classification.py:1344: UndefinedMetricWarning: Precision and F-score are ill-defined and being set to 0.0 in labels with no predicted samples. Use `zero_division` parameter to control this behavior.\n",
            "  _warn_prf(average, modifier, msg_start, len(result))\n",
            "/usr/local/lib/python3.10/dist-packages/sklearn/metrics/_classification.py:1344: UndefinedMetricWarning: Precision and F-score are ill-defined and being set to 0.0 in labels with no predicted samples. Use `zero_division` parameter to control this behavior.\n",
            "  _warn_prf(average, modifier, msg_start, len(result))\n"
          ]
        }
      ]
    },
    {
      "cell_type": "code",
      "source": [
        "# The result will show in colab directory\n",
        "resnet50_model.save('resnet50', save_format= 'h5')"
      ],
      "metadata": {
        "colab": {
          "base_uri": "https://localhost:8080/"
        },
        "id": "VwM1RU6O3sT4",
        "outputId": "702121cd-8b81-49f0-d392-f565b5cc4fa6"
      },
      "execution_count": null,
      "outputs": [
        {
          "output_type": "stream",
          "name": "stderr",
          "text": [
            "/usr/local/lib/python3.10/dist-packages/keras/src/engine/training.py:3079: UserWarning: You are saving your model as an HDF5 file via `model.save()`. This file format is considered legacy. We recommend using instead the native Keras format, e.g. `model.save('my_model.keras')`.\n",
            "  saving_api.save_model(\n"
          ]
        }
      ]
    }
  ]
}